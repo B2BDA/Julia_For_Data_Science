{
 "cells": [
  {
   "cell_type": "code",
   "execution_count": 1,
   "metadata": {},
   "outputs": [],
   "source": [
    "using Pkg"
   ]
  },
  {
   "cell_type": "code",
   "execution_count": null,
   "metadata": {},
   "outputs": [
    {
     "name": "stderr",
     "output_type": "stream",
     "text": [
      "\u001b[32m\u001b[1m   Updating\u001b[22m\u001b[39m registry at `C:\\Users\\bishw\\.julia\\registries\\General`\n"
     ]
    }
   ],
   "source": [
    "Pkg.add(\"DataFrames\")"
   ]
  },
  {
   "cell_type": "code",
   "execution_count": 2,
   "metadata": {},
   "outputs": [],
   "source": [
    "using DataFrames"
   ]
  },
  {
   "cell_type": "code",
   "execution_count": 3,
   "metadata": {},
   "outputs": [
    {
     "data": {
      "text/html": [
       "<table class=\"data-frame\"><thead><tr><th></th><th>A</th><th>B</th></tr><tr><th></th><th>Int64</th><th>Float64</th></tr></thead><tbody><p>4 rows × 2 columns</p><tr><th>1</th><td>1</td><td>0.734621</td></tr><tr><th>2</th><td>2</td><td>0.944791</td></tr><tr><th>3</th><td>3</td><td>0.152635</td></tr><tr><th>4</th><td>4</td><td>0.920613</td></tr></tbody></table>"
      ],
      "text/latex": [
       "\\begin{tabular}{r|cc}\n",
       "\t& A & B\\\\\n",
       "\t\\hline\n",
       "\t& Int64 & Float64\\\\\n",
       "\t\\hline\n",
       "\t1 & 1 & 0.734621 \\\\\n",
       "\t2 & 2 & 0.944791 \\\\\n",
       "\t3 & 3 & 0.152635 \\\\\n",
       "\t4 & 4 & 0.920613 \\\\\n",
       "\\end{tabular}\n"
      ],
      "text/plain": [
       "4×2 DataFrame\n",
       "│ Row │ A     │ B        │\n",
       "│     │ \u001b[90mInt64\u001b[39m │ \u001b[90mFloat64\u001b[39m  │\n",
       "├─────┼───────┼──────────┤\n",
       "│ 1   │ 1     │ 0.734621 │\n",
       "│ 2   │ 2     │ 0.944791 │\n",
       "│ 3   │ 3     │ 0.152635 │\n",
       "│ 4   │ 4     │ 0.920613 │"
      ]
     },
     "execution_count": 3,
     "metadata": {},
     "output_type": "execute_result"
    }
   ],
   "source": [
    "DataFrame(A = 1:4, B = rand(4))"
   ]
  },
  {
   "cell_type": "code",
   "execution_count": 4,
   "metadata": {},
   "outputs": [
    {
     "data": {
      "text/html": [
       "<table class=\"data-frame\"><thead><tr><th></th><th>x1</th><th>x2</th><th>x3</th></tr><tr><th></th><th>Float64</th><th>Float64</th><th>Float64</th></tr></thead><tbody><p>10 rows × 3 columns</p><tr><th>1</th><td>0.96464</td><td>0.564373</td><td>0.230532</td></tr><tr><th>2</th><td>0.527552</td><td>0.102327</td><td>0.0215169</td></tr><tr><th>3</th><td>0.766339</td><td>0.131121</td><td>0.934697</td></tr><tr><th>4</th><td>0.872853</td><td>0.0278844</td><td>0.959453</td></tr><tr><th>5</th><td>0.12567</td><td>0.805258</td><td>0.0496976</td></tr><tr><th>6</th><td>0.436172</td><td>0.0416481</td><td>0.81597</td></tr><tr><th>7</th><td>0.786183</td><td>0.800423</td><td>0.487825</td></tr><tr><th>8</th><td>0.473393</td><td>0.761692</td><td>0.187777</td></tr><tr><th>9</th><td>0.417283</td><td>0.43573</td><td>0.791492</td></tr><tr><th>10</th><td>0.0992364</td><td>0.703291</td><td>0.782124</td></tr></tbody></table>"
      ],
      "text/latex": [
       "\\begin{tabular}{r|ccc}\n",
       "\t& x1 & x2 & x3\\\\\n",
       "\t\\hline\n",
       "\t& Float64 & Float64 & Float64\\\\\n",
       "\t\\hline\n",
       "\t1 & 0.96464 & 0.564373 & 0.230532 \\\\\n",
       "\t2 & 0.527552 & 0.102327 & 0.0215169 \\\\\n",
       "\t3 & 0.766339 & 0.131121 & 0.934697 \\\\\n",
       "\t4 & 0.872853 & 0.0278844 & 0.959453 \\\\\n",
       "\t5 & 0.12567 & 0.805258 & 0.0496976 \\\\\n",
       "\t6 & 0.436172 & 0.0416481 & 0.81597 \\\\\n",
       "\t7 & 0.786183 & 0.800423 & 0.487825 \\\\\n",
       "\t8 & 0.473393 & 0.761692 & 0.187777 \\\\\n",
       "\t9 & 0.417283 & 0.43573 & 0.791492 \\\\\n",
       "\t10 & 0.0992364 & 0.703291 & 0.782124 \\\\\n",
       "\\end{tabular}\n"
      ],
      "text/plain": [
       "10×3 DataFrame\n",
       "│ Row │ x1        │ x2        │ x3        │\n",
       "│     │ \u001b[90mFloat64\u001b[39m   │ \u001b[90mFloat64\u001b[39m   │ \u001b[90mFloat64\u001b[39m   │\n",
       "├─────┼───────────┼───────────┼───────────┤\n",
       "│ 1   │ 0.96464   │ 0.564373  │ 0.230532  │\n",
       "│ 2   │ 0.527552  │ 0.102327  │ 0.0215169 │\n",
       "│ 3   │ 0.766339  │ 0.131121  │ 0.934697  │\n",
       "│ 4   │ 0.872853  │ 0.0278844 │ 0.959453  │\n",
       "│ 5   │ 0.12567   │ 0.805258  │ 0.0496976 │\n",
       "│ 6   │ 0.436172  │ 0.0416481 │ 0.81597   │\n",
       "│ 7   │ 0.786183  │ 0.800423  │ 0.487825  │\n",
       "│ 8   │ 0.473393  │ 0.761692  │ 0.187777  │\n",
       "│ 9   │ 0.417283  │ 0.43573   │ 0.791492  │\n",
       "│ 10  │ 0.0992364 │ 0.703291  │ 0.782124  │"
      ]
     },
     "execution_count": 4,
     "metadata": {},
     "output_type": "execute_result"
    }
   ],
   "source": [
    "df = DataFrame(rand(10,3))"
   ]
  },
  {
   "cell_type": "code",
   "execution_count": 5,
   "metadata": {},
   "outputs": [
    {
     "data": {
      "text/plain": [
       "10×3 Array{Float64,2}:\n",
       " 0.96464    0.564373   0.230532\n",
       " 0.527552   0.102327   0.0215169\n",
       " 0.766339   0.131121   0.934697\n",
       " 0.872853   0.0278844  0.959453\n",
       " 0.12567    0.805258   0.0496976\n",
       " 0.436172   0.0416481  0.81597\n",
       " 0.786183   0.800423   0.487825\n",
       " 0.473393   0.761692   0.187777\n",
       " 0.417283   0.43573    0.791492\n",
       " 0.0992364  0.703291   0.782124"
      ]
     },
     "execution_count": 5,
     "metadata": {},
     "output_type": "execute_result"
    }
   ],
   "source": [
    "Matrix(df)"
   ]
  },
  {
   "cell_type": "code",
   "execution_count": null,
   "metadata": {},
   "outputs": [],
   "source": [
    "Pkg.add(\"Tables\")"
   ]
  },
  {
   "cell_type": "code",
   "execution_count": 6,
   "metadata": {},
   "outputs": [],
   "source": [
    "using Tables"
   ]
  },
  {
   "cell_type": "code",
   "execution_count": 7,
   "metadata": {},
   "outputs": [
    {
     "data": {
      "text/plain": [
       "(x1 = [0.9646397974279004, 0.5275518472159957, 0.7663385207324531, 0.8728532730533571, 0.12567005579031587, 0.43617188312326016, 0.7861832089670413, 0.47339299353694786, 0.4172833864609653, 0.09923642460035254], x2 = [0.5643731679608555, 0.10232725258969833, 0.1311213472538615, 0.02788437140254829, 0.8052578418173766, 0.041648072131448055, 0.800423425736966, 0.7616916589400888, 0.43572953991531604, 0.7032907937792225], x3 = [0.23053216746712413, 0.021516852196594494, 0.9346969198219717, 0.9594534356262001, 0.04969759935480833, 0.8159698516453162, 0.48782455158997995, 0.1877774537042467, 0.7914919257910615, 0.7821241026344197])"
      ]
     },
     "execution_count": 7,
     "metadata": {},
     "output_type": "execute_result"
    }
   ],
   "source": [
    "tb = Tables.columntable(df)"
   ]
  },
  {
   "cell_type": "code",
   "execution_count": 8,
   "metadata": {},
   "outputs": [
    {
     "data": {
      "text/plain": [
       "NamedTuple{(:x1, :x2, :x3),Tuple{Array{Float64,1},Array{Float64,1},Array{Float64,1}}}"
      ]
     },
     "execution_count": 8,
     "metadata": {},
     "output_type": "execute_result"
    }
   ],
   "source": [
    "typeof(tb)"
   ]
  },
  {
   "cell_type": "code",
   "execution_count": 9,
   "metadata": {},
   "outputs": [
    {
     "data": {
      "text/plain": [
       "10-element Array{Float64,1}:\n",
       " 0.9646397974279004\n",
       " 0.5275518472159957\n",
       " 0.7663385207324531\n",
       " 0.8728532730533571\n",
       " 0.12567005579031587\n",
       " 0.43617188312326016\n",
       " 0.7861832089670413\n",
       " 0.47339299353694786\n",
       " 0.4172833864609653\n",
       " 0.09923642460035254"
      ]
     },
     "execution_count": 9,
     "metadata": {},
     "output_type": "execute_result"
    }
   ],
   "source": [
    "tb.x1"
   ]
  },
  {
   "cell_type": "markdown",
   "metadata": {},
   "source": [
    "# Grab column names of Data Frame"
   ]
  },
  {
   "cell_type": "code",
   "execution_count": 13,
   "metadata": {},
   "outputs": [
    {
     "data": {
      "text/plain": [
       "3-element Array{String,1}:\n",
       " \"x1\"\n",
       " \"x2\"\n",
       " \"x3\""
      ]
     },
     "execution_count": 13,
     "metadata": {},
     "output_type": "execute_result"
    }
   ],
   "source": [
    "names(df)"
   ]
  },
  {
   "cell_type": "code",
   "execution_count": 16,
   "metadata": {},
   "outputs": [
    {
     "data": {
      "text/plain": [
       "(10, 3)"
      ]
     },
     "execution_count": 16,
     "metadata": {},
     "output_type": "execute_result"
    }
   ],
   "source": [
    "size(df)"
   ]
  },
  {
   "cell_type": "code",
   "execution_count": 17,
   "metadata": {},
   "outputs": [
    {
     "data": {
      "text/plain": [
       "10"
      ]
     },
     "execution_count": 17,
     "metadata": {},
     "output_type": "execute_result"
    }
   ],
   "source": [
    "nrow(df)"
   ]
  },
  {
   "cell_type": "code",
   "execution_count": 18,
   "metadata": {},
   "outputs": [
    {
     "data": {
      "text/plain": [
       "3"
      ]
     },
     "execution_count": 18,
     "metadata": {},
     "output_type": "execute_result"
    }
   ],
   "source": [
    "ncol(df)"
   ]
  },
  {
   "cell_type": "code",
   "execution_count": 19,
   "metadata": {},
   "outputs": [
    {
     "data": {
      "text/html": [
       "<table class=\"data-frame\"><thead><tr><th></th><th>variable</th><th>mean</th><th>min</th><th>median</th><th>max</th><th>nunique</th><th>nmissing</th><th>eltype</th></tr><tr><th></th><th>Symbol</th><th>Float64</th><th>Float64</th><th>Float64</th><th>Float64</th><th>Nothing</th><th>Nothing</th><th>DataType</th></tr></thead><tbody><p>3 rows × 8 columns</p><tr><th>1</th><td>x1</td><td>0.546932</td><td>0.0992364</td><td>0.500472</td><td>0.96464</td><td></td><td></td><td>Float64</td></tr><tr><th>2</th><td>x2</td><td>0.437375</td><td>0.0278844</td><td>0.500051</td><td>0.805258</td><td></td><td></td><td>Float64</td></tr><tr><th>3</th><td>x3</td><td>0.526108</td><td>0.0215169</td><td>0.634974</td><td>0.959453</td><td></td><td></td><td>Float64</td></tr></tbody></table>"
      ],
      "text/latex": [
       "\\begin{tabular}{r|cccccccc}\n",
       "\t& variable & mean & min & median & max & nunique & nmissing & eltype\\\\\n",
       "\t\\hline\n",
       "\t& Symbol & Float64 & Float64 & Float64 & Float64 & Nothing & Nothing & DataType\\\\\n",
       "\t\\hline\n",
       "\t1 & x1 & 0.546932 & 0.0992364 & 0.500472 & 0.96464 &  &  & Float64 \\\\\n",
       "\t2 & x2 & 0.437375 & 0.0278844 & 0.500051 & 0.805258 &  &  & Float64 \\\\\n",
       "\t3 & x3 & 0.526108 & 0.0215169 & 0.634974 & 0.959453 &  &  & Float64 \\\\\n",
       "\\end{tabular}\n"
      ],
      "text/plain": [
       "3×8 DataFrame. Omitted printing of 2 columns\n",
       "│ Row │ variable │ mean     │ min       │ median   │ max      │ nunique │\n",
       "│     │ \u001b[90mSymbol\u001b[39m   │ \u001b[90mFloat64\u001b[39m  │ \u001b[90mFloat64\u001b[39m   │ \u001b[90mFloat64\u001b[39m  │ \u001b[90mFloat64\u001b[39m  │ \u001b[90mNothing\u001b[39m │\n",
       "├─────┼──────────┼──────────┼───────────┼──────────┼──────────┼─────────┤\n",
       "│ 1   │ x1       │ 0.546932 │ 0.0992364 │ 0.500472 │ 0.96464  │         │\n",
       "│ 2   │ x2       │ 0.437375 │ 0.0278844 │ 0.500051 │ 0.805258 │         │\n",
       "│ 3   │ x3       │ 0.526108 │ 0.0215169 │ 0.634974 │ 0.959453 │         │"
      ]
     },
     "execution_count": 19,
     "metadata": {},
     "output_type": "execute_result"
    }
   ],
   "source": [
    "describe(df)"
   ]
  },
  {
   "cell_type": "code",
   "execution_count": 20,
   "metadata": {},
   "outputs": [
    {
     "data": {
      "text/html": [
       "<table class=\"data-frame\"><thead><tr><th></th><th>variable</th><th>mean</th><th>min</th><th>median</th><th>max</th><th>nunique</th><th>nmissing</th><th>eltype</th></tr><tr><th></th><th>Symbol</th><th>Float64</th><th>Float64</th><th>Float64</th><th>Float64</th><th>Nothing</th><th>Nothing</th><th>DataType</th></tr></thead><tbody><p>2 rows × 8 columns</p><tr><th>1</th><td>x1</td><td>0.546932</td><td>0.0992364</td><td>0.500472</td><td>0.96464</td><td></td><td></td><td>Float64</td></tr><tr><th>2</th><td>x2</td><td>0.437375</td><td>0.0278844</td><td>0.500051</td><td>0.805258</td><td></td><td></td><td>Float64</td></tr></tbody></table>"
      ],
      "text/latex": [
       "\\begin{tabular}{r|cccccccc}\n",
       "\t& variable & mean & min & median & max & nunique & nmissing & eltype\\\\\n",
       "\t\\hline\n",
       "\t& Symbol & Float64 & Float64 & Float64 & Float64 & Nothing & Nothing & DataType\\\\\n",
       "\t\\hline\n",
       "\t1 & x1 & 0.546932 & 0.0992364 & 0.500472 & 0.96464 &  &  & Float64 \\\\\n",
       "\t2 & x2 & 0.437375 & 0.0278844 & 0.500051 & 0.805258 &  &  & Float64 \\\\\n",
       "\\end{tabular}\n"
      ],
      "text/plain": [
       "2×8 DataFrame. Omitted printing of 2 columns\n",
       "│ Row │ variable │ mean     │ min       │ median   │ max      │ nunique │\n",
       "│     │ \u001b[90mSymbol\u001b[39m   │ \u001b[90mFloat64\u001b[39m  │ \u001b[90mFloat64\u001b[39m   │ \u001b[90mFloat64\u001b[39m  │ \u001b[90mFloat64\u001b[39m  │ \u001b[90mNothing\u001b[39m │\n",
       "├─────┼──────────┼──────────┼───────────┼──────────┼──────────┼─────────┤\n",
       "│ 1   │ x1       │ 0.546932 │ 0.0992364 │ 0.500472 │ 0.96464  │         │\n",
       "│ 2   │ x2       │ 0.437375 │ 0.0278844 │ 0.500051 │ 0.805258 │         │"
      ]
     },
     "execution_count": 20,
     "metadata": {},
     "output_type": "execute_result"
    }
   ],
   "source": [
    "describe(df, cols = 1:2 )"
   ]
  },
  {
   "cell_type": "markdown",
   "metadata": {},
   "source": [
    "# Gran data type of each cols in a df"
   ]
  },
  {
   "cell_type": "code",
   "execution_count": 24,
   "metadata": {},
   "outputs": [
    {
     "data": {
      "text/plain": [
       "3-element Array{DataType,1}:\n",
       " Float64\n",
       " Float64\n",
       " Float64"
      ]
     },
     "execution_count": 24,
     "metadata": {},
     "output_type": "execute_result"
    }
   ],
   "source": [
    "eltype.(eachcol(df))"
   ]
  },
  {
   "cell_type": "code",
   "execution_count": 25,
   "metadata": {},
   "outputs": [
    {
     "data": {
      "text/html": [
       "<p>DataFrameRow (3 columns)</p><table class=\"data-frame\"><thead><tr><th></th><th>x1</th><th>x2</th><th>x3</th></tr><tr><th></th><th>Float64</th><th>Float64</th><th>Float64</th></tr></thead><tbody><tr><th>1</th><td>0.96464</td><td>0.564373</td><td>0.230532</td></tr></tbody></table>"
      ],
      "text/latex": [
       "\\begin{tabular}{r|ccc}\n",
       "\t& x1 & x2 & x3\\\\\n",
       "\t\\hline\n",
       "\t& Float64 & Float64 & Float64\\\\\n",
       "\t\\hline\n",
       "\t1 & 0.96464 & 0.564373 & 0.230532 \\\\\n",
       "\\end{tabular}\n"
      ],
      "text/plain": [
       "DataFrameRow\n",
       "│ Row │ x1      │ x2       │ x3       │\n",
       "│     │ \u001b[90mFloat64\u001b[39m │ \u001b[90mFloat64\u001b[39m  │ \u001b[90mFloat64\u001b[39m  │\n",
       "├─────┼─────────┼──────────┼──────────┤\n",
       "│ 1   │ 0.96464 │ 0.564373 │ 0.230532 │"
      ]
     },
     "execution_count": 25,
     "metadata": {},
     "output_type": "execute_result"
    }
   ],
   "source": [
    "first(df)"
   ]
  },
  {
   "cell_type": "markdown",
   "metadata": {},
   "source": [
    "# Head like in Pandas"
   ]
  },
  {
   "cell_type": "code",
   "execution_count": 28,
   "metadata": {},
   "outputs": [
    {
     "data": {
      "text/html": [
       "<table class=\"data-frame\"><thead><tr><th></th><th>x1</th><th>x2</th><th>x3</th></tr><tr><th></th><th>Float64</th><th>Float64</th><th>Float64</th></tr></thead><tbody><p>4 rows × 3 columns</p><tr><th>1</th><td>0.96464</td><td>0.564373</td><td>0.230532</td></tr><tr><th>2</th><td>0.527552</td><td>0.102327</td><td>0.0215169</td></tr><tr><th>3</th><td>0.766339</td><td>0.131121</td><td>0.934697</td></tr><tr><th>4</th><td>0.872853</td><td>0.0278844</td><td>0.959453</td></tr></tbody></table>"
      ],
      "text/latex": [
       "\\begin{tabular}{r|ccc}\n",
       "\t& x1 & x2 & x3\\\\\n",
       "\t\\hline\n",
       "\t& Float64 & Float64 & Float64\\\\\n",
       "\t\\hline\n",
       "\t1 & 0.96464 & 0.564373 & 0.230532 \\\\\n",
       "\t2 & 0.527552 & 0.102327 & 0.0215169 \\\\\n",
       "\t3 & 0.766339 & 0.131121 & 0.934697 \\\\\n",
       "\t4 & 0.872853 & 0.0278844 & 0.959453 \\\\\n",
       "\\end{tabular}\n"
      ],
      "text/plain": [
       "4×3 DataFrame\n",
       "│ Row │ x1       │ x2        │ x3        │\n",
       "│     │ \u001b[90mFloat64\u001b[39m  │ \u001b[90mFloat64\u001b[39m   │ \u001b[90mFloat64\u001b[39m   │\n",
       "├─────┼──────────┼───────────┼───────────┤\n",
       "│ 1   │ 0.96464  │ 0.564373  │ 0.230532  │\n",
       "│ 2   │ 0.527552 │ 0.102327  │ 0.0215169 │\n",
       "│ 3   │ 0.766339 │ 0.131121  │ 0.934697  │\n",
       "│ 4   │ 0.872853 │ 0.0278844 │ 0.959453  │"
      ]
     },
     "execution_count": 28,
     "metadata": {},
     "output_type": "execute_result"
    }
   ],
   "source": [
    "first(df, 4)"
   ]
  },
  {
   "cell_type": "code",
   "execution_count": 29,
   "metadata": {},
   "outputs": [
    {
     "data": {
      "text/html": [
       "<table class=\"data-frame\"><thead><tr><th></th><th>x1</th><th>x2</th><th>x3</th></tr><tr><th></th><th>Float64</th><th>Float64</th><th>Float64</th></tr></thead><tbody><p>3 rows × 3 columns</p><tr><th>1</th><td>0.473393</td><td>0.761692</td><td>0.187777</td></tr><tr><th>2</th><td>0.417283</td><td>0.43573</td><td>0.791492</td></tr><tr><th>3</th><td>0.0992364</td><td>0.703291</td><td>0.782124</td></tr></tbody></table>"
      ],
      "text/latex": [
       "\\begin{tabular}{r|ccc}\n",
       "\t& x1 & x2 & x3\\\\\n",
       "\t\\hline\n",
       "\t& Float64 & Float64 & Float64\\\\\n",
       "\t\\hline\n",
       "\t1 & 0.473393 & 0.761692 & 0.187777 \\\\\n",
       "\t2 & 0.417283 & 0.43573 & 0.791492 \\\\\n",
       "\t3 & 0.0992364 & 0.703291 & 0.782124 \\\\\n",
       "\\end{tabular}\n"
      ],
      "text/plain": [
       "3×3 DataFrame\n",
       "│ Row │ x1        │ x2       │ x3       │\n",
       "│     │ \u001b[90mFloat64\u001b[39m   │ \u001b[90mFloat64\u001b[39m  │ \u001b[90mFloat64\u001b[39m  │\n",
       "├─────┼───────────┼──────────┼──────────┤\n",
       "│ 1   │ 0.473393  │ 0.761692 │ 0.187777 │\n",
       "│ 2   │ 0.417283  │ 0.43573  │ 0.791492 │\n",
       "│ 3   │ 0.0992364 │ 0.703291 │ 0.782124 │"
      ]
     },
     "execution_count": 29,
     "metadata": {},
     "output_type": "execute_result"
    }
   ],
   "source": [
    "last(df, 3)"
   ]
  },
  {
   "cell_type": "markdown",
   "metadata": {},
   "source": [
    "## df[row_start_index:row_end_index , col_start_index:col_stop_index]"
   ]
  },
  {
   "cell_type": "code",
   "execution_count": 35,
   "metadata": {},
   "outputs": [
    {
     "data": {
      "text/html": [
       "<table class=\"data-frame\"><thead><tr><th></th><th>x1</th><th>x2</th></tr><tr><th></th><th>Float64</th><th>Float64</th></tr></thead><tbody><p>7 rows × 2 columns</p><tr><th>1</th><td>0.96464</td><td>0.564373</td></tr><tr><th>2</th><td>0.527552</td><td>0.102327</td></tr><tr><th>3</th><td>0.766339</td><td>0.131121</td></tr><tr><th>4</th><td>0.872853</td><td>0.0278844</td></tr><tr><th>5</th><td>0.12567</td><td>0.805258</td></tr><tr><th>6</th><td>0.436172</td><td>0.0416481</td></tr><tr><th>7</th><td>0.786183</td><td>0.800423</td></tr></tbody></table>"
      ],
      "text/latex": [
       "\\begin{tabular}{r|cc}\n",
       "\t& x1 & x2\\\\\n",
       "\t\\hline\n",
       "\t& Float64 & Float64\\\\\n",
       "\t\\hline\n",
       "\t1 & 0.96464 & 0.564373 \\\\\n",
       "\t2 & 0.527552 & 0.102327 \\\\\n",
       "\t3 & 0.766339 & 0.131121 \\\\\n",
       "\t4 & 0.872853 & 0.0278844 \\\\\n",
       "\t5 & 0.12567 & 0.805258 \\\\\n",
       "\t6 & 0.436172 & 0.0416481 \\\\\n",
       "\t7 & 0.786183 & 0.800423 \\\\\n",
       "\\end{tabular}\n"
      ],
      "text/plain": [
       "7×2 DataFrame\n",
       "│ Row │ x1       │ x2        │\n",
       "│     │ \u001b[90mFloat64\u001b[39m  │ \u001b[90mFloat64\u001b[39m   │\n",
       "├─────┼──────────┼───────────┤\n",
       "│ 1   │ 0.96464  │ 0.564373  │\n",
       "│ 2   │ 0.527552 │ 0.102327  │\n",
       "│ 3   │ 0.766339 │ 0.131121  │\n",
       "│ 4   │ 0.872853 │ 0.0278844 │\n",
       "│ 5   │ 0.12567  │ 0.805258  │\n",
       "│ 6   │ 0.436172 │ 0.0416481 │\n",
       "│ 7   │ 0.786183 │ 0.800423  │"
      ]
     },
     "execution_count": 35,
     "metadata": {},
     "output_type": "execute_result"
    }
   ],
   "source": [
    "df[1:7,1:2]"
   ]
  },
  {
   "cell_type": "code",
   "execution_count": 31,
   "metadata": {},
   "outputs": [
    {
     "data": {
      "text/plain": [
       "10-element Array{Float64,1}:\n",
       " 0.23053216746712413\n",
       " 0.021516852196594494\n",
       " 0.9346969198219717\n",
       " 0.9594534356262001\n",
       " 0.04969759935480833\n",
       " 0.8159698516453162\n",
       " 0.48782455158997995\n",
       " 0.1877774537042467\n",
       " 0.7914919257910615\n",
       " 0.7821241026344197"
      ]
     },
     "execution_count": 31,
     "metadata": {},
     "output_type": "execute_result"
    }
   ],
   "source": [
    "df[3]"
   ]
  },
  {
   "cell_type": "code",
   "execution_count": 36,
   "metadata": {},
   "outputs": [
    {
     "data": {
      "text/html": [
       "<table class=\"data-frame\"><thead><tr><th></th><th>x2</th><th>x3</th></tr><tr><th></th><th>Float64</th><th>Float64</th></tr></thead><tbody><p>10 rows × 2 columns</p><tr><th>1</th><td>0.564373</td><td>0.230532</td></tr><tr><th>2</th><td>0.102327</td><td>0.0215169</td></tr><tr><th>3</th><td>0.131121</td><td>0.934697</td></tr><tr><th>4</th><td>0.0278844</td><td>0.959453</td></tr><tr><th>5</th><td>0.805258</td><td>0.0496976</td></tr><tr><th>6</th><td>0.0416481</td><td>0.81597</td></tr><tr><th>7</th><td>0.800423</td><td>0.487825</td></tr><tr><th>8</th><td>0.761692</td><td>0.187777</td></tr><tr><th>9</th><td>0.43573</td><td>0.791492</td></tr><tr><th>10</th><td>0.703291</td><td>0.782124</td></tr></tbody></table>"
      ],
      "text/latex": [
       "\\begin{tabular}{r|cc}\n",
       "\t& x2 & x3\\\\\n",
       "\t\\hline\n",
       "\t& Float64 & Float64\\\\\n",
       "\t\\hline\n",
       "\t1 & 0.564373 & 0.230532 \\\\\n",
       "\t2 & 0.102327 & 0.0215169 \\\\\n",
       "\t3 & 0.131121 & 0.934697 \\\\\n",
       "\t4 & 0.0278844 & 0.959453 \\\\\n",
       "\t5 & 0.805258 & 0.0496976 \\\\\n",
       "\t6 & 0.0416481 & 0.81597 \\\\\n",
       "\t7 & 0.800423 & 0.487825 \\\\\n",
       "\t8 & 0.761692 & 0.187777 \\\\\n",
       "\t9 & 0.43573 & 0.791492 \\\\\n",
       "\t10 & 0.703291 & 0.782124 \\\\\n",
       "\\end{tabular}\n"
      ],
      "text/plain": [
       "10×2 DataFrame\n",
       "│ Row │ x2        │ x3        │\n",
       "│     │ \u001b[90mFloat64\u001b[39m   │ \u001b[90mFloat64\u001b[39m   │\n",
       "├─────┼───────────┼───────────┤\n",
       "│ 1   │ 0.564373  │ 0.230532  │\n",
       "│ 2   │ 0.102327  │ 0.0215169 │\n",
       "│ 3   │ 0.131121  │ 0.934697  │\n",
       "│ 4   │ 0.0278844 │ 0.959453  │\n",
       "│ 5   │ 0.805258  │ 0.0496976 │\n",
       "│ 6   │ 0.0416481 │ 0.81597   │\n",
       "│ 7   │ 0.800423  │ 0.487825  │\n",
       "│ 8   │ 0.761692  │ 0.187777  │\n",
       "│ 9   │ 0.43573   │ 0.791492  │\n",
       "│ 10  │ 0.703291  │ 0.782124  │"
      ]
     },
     "execution_count": 36,
     "metadata": {},
     "output_type": "execute_result"
    }
   ],
   "source": [
    "df[:, Between(:x2, :x3)]"
   ]
  },
  {
   "cell_type": "code",
   "execution_count": 37,
   "metadata": {},
   "outputs": [
    {
     "data": {
      "text/plain": [
       "10-element Array{Float64,1}:\n",
       " 0.15196681074230156\n",
       " 0.7713193526485806\n",
       " 0.07961296847253418\n",
       " 0.5274001871267886\n",
       " 0.5871892557008938\n",
       " 0.03904583622622937\n",
       " 0.0661020852753409\n",
       " 0.6839713677066606\n",
       " 0.6060026978375959\n",
       " 0.7328737085966832"
      ]
     },
     "execution_count": 37,
     "metadata": {},
     "output_type": "execute_result"
    }
   ],
   "source": [
    "df.x4 = rand(10)"
   ]
  },
  {
   "cell_type": "code",
   "execution_count": 38,
   "metadata": {},
   "outputs": [
    {
     "data": {
      "text/html": [
       "<table class=\"data-frame\"><thead><tr><th></th><th>x1</th><th>x2</th><th>x3</th><th>x4</th></tr><tr><th></th><th>Float64</th><th>Float64</th><th>Float64</th><th>Float64</th></tr></thead><tbody><p>10 rows × 4 columns</p><tr><th>1</th><td>0.96464</td><td>0.564373</td><td>0.230532</td><td>0.151967</td></tr><tr><th>2</th><td>0.527552</td><td>0.102327</td><td>0.0215169</td><td>0.771319</td></tr><tr><th>3</th><td>0.766339</td><td>0.131121</td><td>0.934697</td><td>0.079613</td></tr><tr><th>4</th><td>0.872853</td><td>0.0278844</td><td>0.959453</td><td>0.5274</td></tr><tr><th>5</th><td>0.12567</td><td>0.805258</td><td>0.0496976</td><td>0.587189</td></tr><tr><th>6</th><td>0.436172</td><td>0.0416481</td><td>0.81597</td><td>0.0390458</td></tr><tr><th>7</th><td>0.786183</td><td>0.800423</td><td>0.487825</td><td>0.0661021</td></tr><tr><th>8</th><td>0.473393</td><td>0.761692</td><td>0.187777</td><td>0.683971</td></tr><tr><th>9</th><td>0.417283</td><td>0.43573</td><td>0.791492</td><td>0.606003</td></tr><tr><th>10</th><td>0.0992364</td><td>0.703291</td><td>0.782124</td><td>0.732874</td></tr></tbody></table>"
      ],
      "text/latex": [
       "\\begin{tabular}{r|cccc}\n",
       "\t& x1 & x2 & x3 & x4\\\\\n",
       "\t\\hline\n",
       "\t& Float64 & Float64 & Float64 & Float64\\\\\n",
       "\t\\hline\n",
       "\t1 & 0.96464 & 0.564373 & 0.230532 & 0.151967 \\\\\n",
       "\t2 & 0.527552 & 0.102327 & 0.0215169 & 0.771319 \\\\\n",
       "\t3 & 0.766339 & 0.131121 & 0.934697 & 0.079613 \\\\\n",
       "\t4 & 0.872853 & 0.0278844 & 0.959453 & 0.5274 \\\\\n",
       "\t5 & 0.12567 & 0.805258 & 0.0496976 & 0.587189 \\\\\n",
       "\t6 & 0.436172 & 0.0416481 & 0.81597 & 0.0390458 \\\\\n",
       "\t7 & 0.786183 & 0.800423 & 0.487825 & 0.0661021 \\\\\n",
       "\t8 & 0.473393 & 0.761692 & 0.187777 & 0.683971 \\\\\n",
       "\t9 & 0.417283 & 0.43573 & 0.791492 & 0.606003 \\\\\n",
       "\t10 & 0.0992364 & 0.703291 & 0.782124 & 0.732874 \\\\\n",
       "\\end{tabular}\n"
      ],
      "text/plain": [
       "10×4 DataFrame\n",
       "│ Row │ x1        │ x2        │ x3        │ x4        │\n",
       "│     │ \u001b[90mFloat64\u001b[39m   │ \u001b[90mFloat64\u001b[39m   │ \u001b[90mFloat64\u001b[39m   │ \u001b[90mFloat64\u001b[39m   │\n",
       "├─────┼───────────┼───────────┼───────────┼───────────┤\n",
       "│ 1   │ 0.96464   │ 0.564373  │ 0.230532  │ 0.151967  │\n",
       "│ 2   │ 0.527552  │ 0.102327  │ 0.0215169 │ 0.771319  │\n",
       "│ 3   │ 0.766339  │ 0.131121  │ 0.934697  │ 0.079613  │\n",
       "│ 4   │ 0.872853  │ 0.0278844 │ 0.959453  │ 0.5274    │\n",
       "│ 5   │ 0.12567   │ 0.805258  │ 0.0496976 │ 0.587189  │\n",
       "│ 6   │ 0.436172  │ 0.0416481 │ 0.81597   │ 0.0390458 │\n",
       "│ 7   │ 0.786183  │ 0.800423  │ 0.487825  │ 0.0661021 │\n",
       "│ 8   │ 0.473393  │ 0.761692  │ 0.187777  │ 0.683971  │\n",
       "│ 9   │ 0.417283  │ 0.43573   │ 0.791492  │ 0.606003  │\n",
       "│ 10  │ 0.0992364 │ 0.703291  │ 0.782124  │ 0.732874  │"
      ]
     },
     "execution_count": 38,
     "metadata": {},
     "output_type": "execute_result"
    }
   ],
   "source": [
    "df"
   ]
  },
  {
   "cell_type": "markdown",
   "metadata": {},
   "source": [
    "# Writing and Reading Df"
   ]
  },
  {
   "cell_type": "code",
   "execution_count": 39,
   "metadata": {},
   "outputs": [],
   "source": [
    "using DataFrames"
   ]
  },
  {
   "cell_type": "code",
   "execution_count": 40,
   "metadata": {},
   "outputs": [
    {
     "data": {
      "text/html": [
       "<table class=\"data-frame\"><thead><tr><th></th><th>A</th><th>B</th><th>C</th></tr><tr><th></th><th>Bool</th><th>Int64</th><th>Char</th></tr></thead><tbody><p>3 rows × 3 columns</p><tr><th>1</th><td>1</td><td>25</td><td>'a'</td></tr><tr><th>2</th><td>0</td><td>45</td><td>'b'</td></tr><tr><th>3</th><td>1</td><td>67</td><td>'c'</td></tr></tbody></table>"
      ],
      "text/latex": [
       "\\begin{tabular}{r|ccc}\n",
       "\t& A & B & C\\\\\n",
       "\t\\hline\n",
       "\t& Bool & Int64 & Char\\\\\n",
       "\t\\hline\n",
       "\t1 & 1 & 25 & 'a' \\\\\n",
       "\t2 & 0 & 45 & 'b' \\\\\n",
       "\t3 & 1 & 67 & 'c' \\\\\n",
       "\\end{tabular}\n"
      ],
      "text/plain": [
       "3×3 DataFrame\n",
       "│ Row │ A    │ B     │ C    │\n",
       "│     │ \u001b[90mBool\u001b[39m │ \u001b[90mInt64\u001b[39m │ \u001b[90mChar\u001b[39m │\n",
       "├─────┼──────┼───────┼──────┤\n",
       "│ 1   │ 1    │ 25    │ 'a'  │\n",
       "│ 2   │ 0    │ 45    │ 'b'  │\n",
       "│ 3   │ 1    │ 67    │ 'c'  │"
      ]
     },
     "execution_count": 40,
     "metadata": {},
     "output_type": "execute_result"
    }
   ],
   "source": [
    "df = DataFrame(A = [true, false, true], B = [25, 45, 67], C = ['a','b','c'])"
   ]
  },
  {
   "cell_type": "markdown",
   "metadata": {},
   "source": [
    "# Write to csv"
   ]
  },
  {
   "cell_type": "code",
   "execution_count": 41,
   "metadata": {},
   "outputs": [
    {
     "name": "stderr",
     "output_type": "stream",
     "text": [
      "\u001b[32m\u001b[1m   Updating\u001b[22m\u001b[39m registry at `C:\\Users\\bishw\\.julia\\registries\\General`\n",
      "\u001b[32m\u001b[1m  Resolving\u001b[22m\u001b[39m package versions...\n",
      "\u001b[32m\u001b[1m  Installed\u001b[22m\u001b[39m SentinelArrays ─ v1.2.16\n",
      "\u001b[32m\u001b[1m  Installed\u001b[22m\u001b[39m CSV ──────────── v0.7.7\n",
      "\u001b[32m\u001b[1mUpdating\u001b[22m\u001b[39m `C:\\Users\\bishw\\.julia\\environments\\v1.5\\Project.toml`\n",
      " \u001b[90m [336ed68f] \u001b[39m\u001b[92m+ CSV v0.7.7\u001b[39m\n",
      "\u001b[32m\u001b[1mUpdating\u001b[22m\u001b[39m `C:\\Users\\bishw\\.julia\\environments\\v1.5\\Manifest.toml`\n",
      " \u001b[90m [336ed68f] \u001b[39m\u001b[92m+ CSV v0.7.7\u001b[39m\n",
      " \u001b[90m [91c51154] \u001b[39m\u001b[92m+ SentinelArrays v1.2.16\u001b[39m\n"
     ]
    }
   ],
   "source": [
    "Pkg.add(\"CSV\")"
   ]
  },
  {
   "cell_type": "code",
   "execution_count": 45,
   "metadata": {},
   "outputs": [
    {
     "name": "stderr",
     "output_type": "stream",
     "text": [
      "┌ Info: Precompiling CSV [336ed68f-0bac-5ca0-87d4-7b16caf5d00b]\n",
      "└ @ Base loading.jl:1278\n"
     ]
    }
   ],
   "source": [
    "using CSV"
   ]
  },
  {
   "cell_type": "code",
   "execution_count": 27,
   "metadata": {},
   "outputs": [
    {
     "data": {
      "text/html": [
       "<table class=\"data-frame\"><thead><tr><th></th><th>x1</th><th>x2</th><th>x3</th></tr><tr><th></th><th>Float64</th><th>Float64</th><th>Float64</th></tr></thead><tbody><p>6 rows × 3 columns</p><tr><th>1</th><td>0.12567</td><td>0.805258</td><td>0.0496976</td></tr><tr><th>2</th><td>0.436172</td><td>0.0416481</td><td>0.81597</td></tr><tr><th>3</th><td>0.786183</td><td>0.800423</td><td>0.487825</td></tr><tr><th>4</th><td>0.473393</td><td>0.761692</td><td>0.187777</td></tr><tr><th>5</th><td>0.417283</td><td>0.43573</td><td>0.791492</td></tr><tr><th>6</th><td>0.0992364</td><td>0.703291</td><td>0.782124</td></tr></tbody></table>"
      ],
      "text/latex": [
       "\\begin{tabular}{r|ccc}\n",
       "\t& x1 & x2 & x3\\\\\n",
       "\t\\hline\n",
       "\t& Float64 & Float64 & Float64\\\\\n",
       "\t\\hline\n",
       "\t1 & 0.12567 & 0.805258 & 0.0496976 \\\\\n",
       "\t2 & 0.436172 & 0.0416481 & 0.81597 \\\\\n",
       "\t3 & 0.786183 & 0.800423 & 0.487825 \\\\\n",
       "\t4 & 0.473393 & 0.761692 & 0.187777 \\\\\n",
       "\t5 & 0.417283 & 0.43573 & 0.791492 \\\\\n",
       "\t6 & 0.0992364 & 0.703291 & 0.782124 \\\\\n",
       "\\end{tabular}\n"
      ],
      "text/plain": [
       "6×3 DataFrame\n",
       "│ Row │ x1        │ x2        │ x3        │\n",
       "│     │ \u001b[90mFloat64\u001b[39m   │ \u001b[90mFloat64\u001b[39m   │ \u001b[90mFloat64\u001b[39m   │\n",
       "├─────┼───────────┼───────────┼───────────┤\n",
       "│ 1   │ 0.12567   │ 0.805258  │ 0.0496976 │\n",
       "│ 2   │ 0.436172  │ 0.0416481 │ 0.81597   │\n",
       "│ 3   │ 0.786183  │ 0.800423  │ 0.487825  │\n",
       "│ 4   │ 0.473393  │ 0.761692  │ 0.187777  │\n",
       "│ 5   │ 0.417283  │ 0.43573   │ 0.791492  │\n",
       "│ 6   │ 0.0992364 │ 0.703291  │ 0.782124  │"
      ]
     },
     "execution_count": 27,
     "metadata": {},
     "output_type": "execute_result"
    }
   ],
   "source": [
    "tail(df)"
   ]
  },
  {
   "cell_type": "code",
   "execution_count": 46,
   "metadata": {},
   "outputs": [
    {
     "data": {
      "text/plain": [
       "\"test.csv\""
      ]
     },
     "execution_count": 46,
     "metadata": {},
     "output_type": "execute_result"
    }
   ],
   "source": [
    "CSV.write(\"test.csv\",df)"
   ]
  },
  {
   "cell_type": "code",
   "execution_count": 47,
   "metadata": {},
   "outputs": [
    {
     "data": {
      "text/html": [
       "<table class=\"data-frame\"><thead><tr><th></th><th>A</th><th>B</th><th>C</th></tr><tr><th></th><th>Bool</th><th>Int64</th><th>String</th></tr></thead><tbody><p>3 rows × 3 columns</p><tr><th>1</th><td>1</td><td>25</td><td>a</td></tr><tr><th>2</th><td>0</td><td>45</td><td>b</td></tr><tr><th>3</th><td>1</td><td>67</td><td>c</td></tr></tbody></table>"
      ],
      "text/latex": [
       "\\begin{tabular}{r|ccc}\n",
       "\t& A & B & C\\\\\n",
       "\t\\hline\n",
       "\t& Bool & Int64 & String\\\\\n",
       "\t\\hline\n",
       "\t1 & 1 & 25 & a \\\\\n",
       "\t2 & 0 & 45 & b \\\\\n",
       "\t3 & 1 & 67 & c \\\\\n",
       "\\end{tabular}\n"
      ],
      "text/plain": [
       "3×3 DataFrame\n",
       "│ Row │ A    │ B     │ C      │\n",
       "│     │ \u001b[90mBool\u001b[39m │ \u001b[90mInt64\u001b[39m │ \u001b[90mString\u001b[39m │\n",
       "├─────┼──────┼───────┼────────┤\n",
       "│ 1   │ 1    │ 25    │ a      │\n",
       "│ 2   │ 0    │ 45    │ b      │\n",
       "│ 3   │ 1    │ 67    │ c      │"
      ]
     },
     "execution_count": 47,
     "metadata": {},
     "output_type": "execute_result"
    }
   ],
   "source": [
    "CSV.read(\"test.csv\")"
   ]
  }
 ],
 "metadata": {
  "kernelspec": {
   "display_name": "Julia 1.5.2",
   "language": "julia",
   "name": "julia-1.5"
  },
  "language_info": {
   "file_extension": ".jl",
   "mimetype": "application/julia",
   "name": "julia",
   "version": "1.5.2"
  }
 },
 "nbformat": 4,
 "nbformat_minor": 4
}
