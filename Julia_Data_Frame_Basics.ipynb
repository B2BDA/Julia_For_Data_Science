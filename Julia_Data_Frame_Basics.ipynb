{
 "cells": [
  {
   "cell_type": "code",
   "execution_count": 1,
   "metadata": {},
   "outputs": [],
   "source": [
    "using Pkg"
   ]
  },
  {
   "cell_type": "code",
   "execution_count": null,
   "metadata": {},
   "outputs": [
    {
     "name": "stderr",
     "output_type": "stream",
     "text": [
      "\u001b[32m\u001b[1m   Updating\u001b[22m\u001b[39m registry at `C:\\Users\\bishw\\.julia\\registries\\General`\n"
     ]
    }
   ],
   "source": [
    "Pkg.add(\"DataFrames\")"
   ]
  },
  {
   "cell_type": "code",
   "execution_count": 2,
   "metadata": {},
   "outputs": [],
   "source": [
    "using DataFrames"
   ]
  },
  {
   "cell_type": "code",
   "execution_count": 3,
   "metadata": {},
   "outputs": [
    {
     "data": {
      "text/html": [
       "<table class=\"data-frame\"><thead><tr><th></th><th>A</th><th>B</th></tr><tr><th></th><th>Int64</th><th>Float64</th></tr></thead><tbody><p>4 rows × 2 columns</p><tr><th>1</th><td>1</td><td>0.734621</td></tr><tr><th>2</th><td>2</td><td>0.944791</td></tr><tr><th>3</th><td>3</td><td>0.152635</td></tr><tr><th>4</th><td>4</td><td>0.920613</td></tr></tbody></table>"
      ],
      "text/latex": [
       "\\begin{tabular}{r|cc}\n",
       "\t& A & B\\\\\n",
       "\t\\hline\n",
       "\t& Int64 & Float64\\\\\n",
       "\t\\hline\n",
       "\t1 & 1 & 0.734621 \\\\\n",
       "\t2 & 2 & 0.944791 \\\\\n",
       "\t3 & 3 & 0.152635 \\\\\n",
       "\t4 & 4 & 0.920613 \\\\\n",
       "\\end{tabular}\n"
      ],
      "text/plain": [
       "4×2 DataFrame\n",
       "│ Row │ A     │ B        │\n",
       "│     │ \u001b[90mInt64\u001b[39m │ \u001b[90mFloat64\u001b[39m  │\n",
       "├─────┼───────┼──────────┤\n",
       "│ 1   │ 1     │ 0.734621 │\n",
       "│ 2   │ 2     │ 0.944791 │\n",
       "│ 3   │ 3     │ 0.152635 │\n",
       "│ 4   │ 4     │ 0.920613 │"
      ]
     },
     "execution_count": 3,
     "metadata": {},
     "output_type": "execute_result"
    }
   ],
   "source": [
    "DataFrame(A = 1:4, B = rand(4))"
   ]
  },
  {
   "cell_type": "code",
   "execution_count": 4,
   "metadata": {},
   "outputs": [
    {
     "data": {
      "text/html": [
       "<table class=\"data-frame\"><thead><tr><th></th><th>x1</th><th>x2</th><th>x3</th></tr><tr><th></th><th>Float64</th><th>Float64</th><th>Float64</th></tr></thead><tbody><p>10 rows × 3 columns</p><tr><th>1</th><td>0.96464</td><td>0.564373</td><td>0.230532</td></tr><tr><th>2</th><td>0.527552</td><td>0.102327</td><td>0.0215169</td></tr><tr><th>3</th><td>0.766339</td><td>0.131121</td><td>0.934697</td></tr><tr><th>4</th><td>0.872853</td><td>0.0278844</td><td>0.959453</td></tr><tr><th>5</th><td>0.12567</td><td>0.805258</td><td>0.0496976</td></tr><tr><th>6</th><td>0.436172</td><td>0.0416481</td><td>0.81597</td></tr><tr><th>7</th><td>0.786183</td><td>0.800423</td><td>0.487825</td></tr><tr><th>8</th><td>0.473393</td><td>0.761692</td><td>0.187777</td></tr><tr><th>9</th><td>0.417283</td><td>0.43573</td><td>0.791492</td></tr><tr><th>10</th><td>0.0992364</td><td>0.703291</td><td>0.782124</td></tr></tbody></table>"
      ],
      "text/latex": [
       "\\begin{tabular}{r|ccc}\n",
       "\t& x1 & x2 & x3\\\\\n",
       "\t\\hline\n",
       "\t& Float64 & Float64 & Float64\\\\\n",
       "\t\\hline\n",
       "\t1 & 0.96464 & 0.564373 & 0.230532 \\\\\n",
       "\t2 & 0.527552 & 0.102327 & 0.0215169 \\\\\n",
       "\t3 & 0.766339 & 0.131121 & 0.934697 \\\\\n",
       "\t4 & 0.872853 & 0.0278844 & 0.959453 \\\\\n",
       "\t5 & 0.12567 & 0.805258 & 0.0496976 \\\\\n",
       "\t6 & 0.436172 & 0.0416481 & 0.81597 \\\\\n",
       "\t7 & 0.786183 & 0.800423 & 0.487825 \\\\\n",
       "\t8 & 0.473393 & 0.761692 & 0.187777 \\\\\n",
       "\t9 & 0.417283 & 0.43573 & 0.791492 \\\\\n",
       "\t10 & 0.0992364 & 0.703291 & 0.782124 \\\\\n",
       "\\end{tabular}\n"
      ],
      "text/plain": [
       "10×3 DataFrame\n",
       "│ Row │ x1        │ x2        │ x3        │\n",
       "│     │ \u001b[90mFloat64\u001b[39m   │ \u001b[90mFloat64\u001b[39m   │ \u001b[90mFloat64\u001b[39m   │\n",
       "├─────┼───────────┼───────────┼───────────┤\n",
       "│ 1   │ 0.96464   │ 0.564373  │ 0.230532  │\n",
       "│ 2   │ 0.527552  │ 0.102327  │ 0.0215169 │\n",
       "│ 3   │ 0.766339  │ 0.131121  │ 0.934697  │\n",
       "│ 4   │ 0.872853  │ 0.0278844 │ 0.959453  │\n",
       "│ 5   │ 0.12567   │ 0.805258  │ 0.0496976 │\n",
       "│ 6   │ 0.436172  │ 0.0416481 │ 0.81597   │\n",
       "│ 7   │ 0.786183  │ 0.800423  │ 0.487825  │\n",
       "│ 8   │ 0.473393  │ 0.761692  │ 0.187777  │\n",
       "│ 9   │ 0.417283  │ 0.43573   │ 0.791492  │\n",
       "│ 10  │ 0.0992364 │ 0.703291  │ 0.782124  │"
      ]
     },
     "execution_count": 4,
     "metadata": {},
     "output_type": "execute_result"
    }
   ],
   "source": [
    "df = DataFrame(rand(10,3))"
   ]
  },
  {
   "cell_type": "code",
   "execution_count": 5,
   "metadata": {},
   "outputs": [
    {
     "data": {
      "text/plain": [
       "10×3 Array{Float64,2}:\n",
       " 0.96464    0.564373   0.230532\n",
       " 0.527552   0.102327   0.0215169\n",
       " 0.766339   0.131121   0.934697\n",
       " 0.872853   0.0278844  0.959453\n",
       " 0.12567    0.805258   0.0496976\n",
       " 0.436172   0.0416481  0.81597\n",
       " 0.786183   0.800423   0.487825\n",
       " 0.473393   0.761692   0.187777\n",
       " 0.417283   0.43573    0.791492\n",
       " 0.0992364  0.703291   0.782124"
      ]
     },
     "execution_count": 5,
     "metadata": {},
     "output_type": "execute_result"
    }
   ],
   "source": [
    "Matrix(df)"
   ]
  },
  {
   "cell_type": "code",
   "execution_count": null,
   "metadata": {},
   "outputs": [],
   "source": [
    "Pkg.add(\"Tables\")"
   ]
  },
  {
   "cell_type": "code",
   "execution_count": 6,
   "metadata": {},
   "outputs": [],
   "source": [
    "using Tables"
   ]
  },
  {
   "cell_type": "code",
   "execution_count": 7,
   "metadata": {},
   "outputs": [
    {
     "data": {
      "text/plain": [
       "(x1 = [0.9646397974279004, 0.5275518472159957, 0.7663385207324531, 0.8728532730533571, 0.12567005579031587, 0.43617188312326016, 0.7861832089670413, 0.47339299353694786, 0.4172833864609653, 0.09923642460035254], x2 = [0.5643731679608555, 0.10232725258969833, 0.1311213472538615, 0.02788437140254829, 0.8052578418173766, 0.041648072131448055, 0.800423425736966, 0.7616916589400888, 0.43572953991531604, 0.7032907937792225], x3 = [0.23053216746712413, 0.021516852196594494, 0.9346969198219717, 0.9594534356262001, 0.04969759935480833, 0.8159698516453162, 0.48782455158997995, 0.1877774537042467, 0.7914919257910615, 0.7821241026344197])"
      ]
     },
     "execution_count": 7,
     "metadata": {},
     "output_type": "execute_result"
    }
   ],
   "source": [
    "tb = Tables.columntable(df)"
   ]
  },
  {
   "cell_type": "code",
   "execution_count": 8,
   "metadata": {},
   "outputs": [
    {
     "data": {
      "text/plain": [
       "NamedTuple{(:x1, :x2, :x3),Tuple{Array{Float64,1},Array{Float64,1},Array{Float64,1}}}"
      ]
     },
     "execution_count": 8,
     "metadata": {},
     "output_type": "execute_result"
    }
   ],
   "source": [
    "typeof(tb)"
   ]
  },
  {
   "cell_type": "code",
   "execution_count": 9,
   "metadata": {},
   "outputs": [
    {
     "data": {
      "text/plain": [
       "10-element Array{Float64,1}:\n",
       " 0.9646397974279004\n",
       " 0.5275518472159957\n",
       " 0.7663385207324531\n",
       " 0.8728532730533571\n",
       " 0.12567005579031587\n",
       " 0.43617188312326016\n",
       " 0.7861832089670413\n",
       " 0.47339299353694786\n",
       " 0.4172833864609653\n",
       " 0.09923642460035254"
      ]
     },
     "execution_count": 9,
     "metadata": {},
     "output_type": "execute_result"
    }
   ],
   "source": [
    "tb.x1"
   ]
  },
  {
   "cell_type": "markdown",
   "metadata": {},
   "source": [
    "# Grab column names of Data Frame"
   ]
  },
  {
   "cell_type": "code",
   "execution_count": 13,
   "metadata": {},
   "outputs": [
    {
     "data": {
      "text/plain": [
       "3-element Array{String,1}:\n",
       " \"x1\"\n",
       " \"x2\"\n",
       " \"x3\""
      ]
     },
     "execution_count": 13,
     "metadata": {},
     "output_type": "execute_result"
    }
   ],
   "source": [
    "names(df)"
   ]
  },
  {
   "cell_type": "code",
   "execution_count": 16,
   "metadata": {},
   "outputs": [
    {
     "data": {
      "text/plain": [
       "(10, 3)"
      ]
     },
     "execution_count": 16,
     "metadata": {},
     "output_type": "execute_result"
    }
   ],
   "source": [
    "size(df)"
   ]
  },
  {
   "cell_type": "code",
   "execution_count": 17,
   "metadata": {},
   "outputs": [
    {
     "data": {
      "text/plain": [
       "10"
      ]
     },
     "execution_count": 17,
     "metadata": {},
     "output_type": "execute_result"
    }
   ],
   "source": [
    "nrow(df)"
   ]
  },
  {
   "cell_type": "code",
   "execution_count": 18,
   "metadata": {},
   "outputs": [
    {
     "data": {
      "text/plain": [
       "3"
      ]
     },
     "execution_count": 18,
     "metadata": {},
     "output_type": "execute_result"
    }
   ],
   "source": [
    "ncol(df)"
   ]
  },
  {
   "cell_type": "code",
   "execution_count": 19,
   "metadata": {},
   "outputs": [
    {
     "data": {
      "text/html": [
       "<table class=\"data-frame\"><thead><tr><th></th><th>variable</th><th>mean</th><th>min</th><th>median</th><th>max</th><th>nunique</th><th>nmissing</th><th>eltype</th></tr><tr><th></th><th>Symbol</th><th>Float64</th><th>Float64</th><th>Float64</th><th>Float64</th><th>Nothing</th><th>Nothing</th><th>DataType</th></tr></thead><tbody><p>3 rows × 8 columns</p><tr><th>1</th><td>x1</td><td>0.546932</td><td>0.0992364</td><td>0.500472</td><td>0.96464</td><td></td><td></td><td>Float64</td></tr><tr><th>2</th><td>x2</td><td>0.437375</td><td>0.0278844</td><td>0.500051</td><td>0.805258</td><td></td><td></td><td>Float64</td></tr><tr><th>3</th><td>x3</td><td>0.526108</td><td>0.0215169</td><td>0.634974</td><td>0.959453</td><td></td><td></td><td>Float64</td></tr></tbody></table>"
      ],
      "text/latex": [
       "\\begin{tabular}{r|cccccccc}\n",
       "\t& variable & mean & min & median & max & nunique & nmissing & eltype\\\\\n",
       "\t\\hline\n",
       "\t& Symbol & Float64 & Float64 & Float64 & Float64 & Nothing & Nothing & DataType\\\\\n",
       "\t\\hline\n",
       "\t1 & x1 & 0.546932 & 0.0992364 & 0.500472 & 0.96464 &  &  & Float64 \\\\\n",
       "\t2 & x2 & 0.437375 & 0.0278844 & 0.500051 & 0.805258 &  &  & Float64 \\\\\n",
       "\t3 & x3 & 0.526108 & 0.0215169 & 0.634974 & 0.959453 &  &  & Float64 \\\\\n",
       "\\end{tabular}\n"
      ],
      "text/plain": [
       "3×8 DataFrame. Omitted printing of 2 columns\n",
       "│ Row │ variable │ mean     │ min       │ median   │ max      │ nunique │\n",
       "│     │ \u001b[90mSymbol\u001b[39m   │ \u001b[90mFloat64\u001b[39m  │ \u001b[90mFloat64\u001b[39m   │ \u001b[90mFloat64\u001b[39m  │ \u001b[90mFloat64\u001b[39m  │ \u001b[90mNothing\u001b[39m │\n",
       "├─────┼──────────┼──────────┼───────────┼──────────┼──────────┼─────────┤\n",
       "│ 1   │ x1       │ 0.546932 │ 0.0992364 │ 0.500472 │ 0.96464  │         │\n",
       "│ 2   │ x2       │ 0.437375 │ 0.0278844 │ 0.500051 │ 0.805258 │         │\n",
       "│ 3   │ x3       │ 0.526108 │ 0.0215169 │ 0.634974 │ 0.959453 │         │"
      ]
     },
     "execution_count": 19,
     "metadata": {},
     "output_type": "execute_result"
    }
   ],
   "source": [
    "describe(df)"
   ]
  },
  {
   "cell_type": "code",
   "execution_count": 20,
   "metadata": {},
   "outputs": [
    {
     "data": {
      "text/html": [
       "<table class=\"data-frame\"><thead><tr><th></th><th>variable</th><th>mean</th><th>min</th><th>median</th><th>max</th><th>nunique</th><th>nmissing</th><th>eltype</th></tr><tr><th></th><th>Symbol</th><th>Float64</th><th>Float64</th><th>Float64</th><th>Float64</th><th>Nothing</th><th>Nothing</th><th>DataType</th></tr></thead><tbody><p>2 rows × 8 columns</p><tr><th>1</th><td>x1</td><td>0.546932</td><td>0.0992364</td><td>0.500472</td><td>0.96464</td><td></td><td></td><td>Float64</td></tr><tr><th>2</th><td>x2</td><td>0.437375</td><td>0.0278844</td><td>0.500051</td><td>0.805258</td><td></td><td></td><td>Float64</td></tr></tbody></table>"
      ],
      "text/latex": [
       "\\begin{tabular}{r|cccccccc}\n",
       "\t& variable & mean & min & median & max & nunique & nmissing & eltype\\\\\n",
       "\t\\hline\n",
       "\t& Symbol & Float64 & Float64 & Float64 & Float64 & Nothing & Nothing & DataType\\\\\n",
       "\t\\hline\n",
       "\t1 & x1 & 0.546932 & 0.0992364 & 0.500472 & 0.96464 &  &  & Float64 \\\\\n",
       "\t2 & x2 & 0.437375 & 0.0278844 & 0.500051 & 0.805258 &  &  & Float64 \\\\\n",
       "\\end{tabular}\n"
      ],
      "text/plain": [
       "2×8 DataFrame. Omitted printing of 2 columns\n",
       "│ Row │ variable │ mean     │ min       │ median   │ max      │ nunique │\n",
       "│     │ \u001b[90mSymbol\u001b[39m   │ \u001b[90mFloat64\u001b[39m  │ \u001b[90mFloat64\u001b[39m   │ \u001b[90mFloat64\u001b[39m  │ \u001b[90mFloat64\u001b[39m  │ \u001b[90mNothing\u001b[39m │\n",
       "├─────┼──────────┼──────────┼───────────┼──────────┼──────────┼─────────┤\n",
       "│ 1   │ x1       │ 0.546932 │ 0.0992364 │ 0.500472 │ 0.96464  │         │\n",
       "│ 2   │ x2       │ 0.437375 │ 0.0278844 │ 0.500051 │ 0.805258 │         │"
      ]
     },
     "execution_count": 20,
     "metadata": {},
     "output_type": "execute_result"
    }
   ],
   "source": [
    "describe(df, cols = 1:2 )"
   ]
  },
  {
   "cell_type": "markdown",
   "metadata": {},
   "source": [
    "# Gran data type of each cols in a df"
   ]
  },
  {
   "cell_type": "code",
   "execution_count": 24,
   "metadata": {},
   "outputs": [
    {
     "data": {
      "text/plain": [
       "3-element Array{DataType,1}:\n",
       " Float64\n",
       " Float64\n",
       " Float64"
      ]
     },
     "execution_count": 24,
     "metadata": {},
     "output_type": "execute_result"
    }
   ],
   "source": [
    "eltype.(eachcol(df))"
   ]
  },
  {
   "cell_type": "code",
   "execution_count": 25,
   "metadata": {},
   "outputs": [
    {
     "data": {
      "text/html": [
       "<p>DataFrameRow (3 columns)</p><table class=\"data-frame\"><thead><tr><th></th><th>x1</th><th>x2</th><th>x3</th></tr><tr><th></th><th>Float64</th><th>Float64</th><th>Float64</th></tr></thead><tbody><tr><th>1</th><td>0.96464</td><td>0.564373</td><td>0.230532</td></tr></tbody></table>"
      ],
      "text/latex": [
       "\\begin{tabular}{r|ccc}\n",
       "\t& x1 & x2 & x3\\\\\n",
       "\t\\hline\n",
       "\t& Float64 & Float64 & Float64\\\\\n",
       "\t\\hline\n",
       "\t1 & 0.96464 & 0.564373 & 0.230532 \\\\\n",
       "\\end{tabular}\n"
      ],
      "text/plain": [
       "DataFrameRow\n",
       "│ Row │ x1      │ x2       │ x3       │\n",
       "│     │ \u001b[90mFloat64\u001b[39m │ \u001b[90mFloat64\u001b[39m  │ \u001b[90mFloat64\u001b[39m  │\n",
       "├─────┼─────────┼──────────┼──────────┤\n",
       "│ 1   │ 0.96464 │ 0.564373 │ 0.230532 │"
      ]
     },
     "execution_count": 25,
     "metadata": {},
     "output_type": "execute_result"
    }
   ],
   "source": [
    "first(df)"
   ]
  },
  {
   "cell_type": "markdown",
   "metadata": {},
   "source": [
    "# Head like in Pandas"
   ]
  },
  {
   "cell_type": "code",
   "execution_count": 28,
   "metadata": {},
   "outputs": [
    {
     "data": {
      "text/html": [
       "<table class=\"data-frame\"><thead><tr><th></th><th>x1</th><th>x2</th><th>x3</th></tr><tr><th></th><th>Float64</th><th>Float64</th><th>Float64</th></tr></thead><tbody><p>4 rows × 3 columns</p><tr><th>1</th><td>0.96464</td><td>0.564373</td><td>0.230532</td></tr><tr><th>2</th><td>0.527552</td><td>0.102327</td><td>0.0215169</td></tr><tr><th>3</th><td>0.766339</td><td>0.131121</td><td>0.934697</td></tr><tr><th>4</th><td>0.872853</td><td>0.0278844</td><td>0.959453</td></tr></tbody></table>"
      ],
      "text/latex": [
       "\\begin{tabular}{r|ccc}\n",
       "\t& x1 & x2 & x3\\\\\n",
       "\t\\hline\n",
       "\t& Float64 & Float64 & Float64\\\\\n",
       "\t\\hline\n",
       "\t1 & 0.96464 & 0.564373 & 0.230532 \\\\\n",
       "\t2 & 0.527552 & 0.102327 & 0.0215169 \\\\\n",
       "\t3 & 0.766339 & 0.131121 & 0.934697 \\\\\n",
       "\t4 & 0.872853 & 0.0278844 & 0.959453 \\\\\n",
       "\\end{tabular}\n"
      ],
      "text/plain": [
       "4×3 DataFrame\n",
       "│ Row │ x1       │ x2        │ x3        │\n",
       "│     │ \u001b[90mFloat64\u001b[39m  │ \u001b[90mFloat64\u001b[39m   │ \u001b[90mFloat64\u001b[39m   │\n",
       "├─────┼──────────┼───────────┼───────────┤\n",
       "│ 1   │ 0.96464  │ 0.564373  │ 0.230532  │\n",
       "│ 2   │ 0.527552 │ 0.102327  │ 0.0215169 │\n",
       "│ 3   │ 0.766339 │ 0.131121  │ 0.934697  │\n",
       "│ 4   │ 0.872853 │ 0.0278844 │ 0.959453  │"
      ]
     },
     "execution_count": 28,
     "metadata": {},
     "output_type": "execute_result"
    }
   ],
   "source": [
    "first(df, 4)"
   ]
  },
  {
   "cell_type": "code",
   "execution_count": 29,
   "metadata": {},
   "outputs": [
    {
     "data": {
      "text/html": [
       "<table class=\"data-frame\"><thead><tr><th></th><th>x1</th><th>x2</th><th>x3</th></tr><tr><th></th><th>Float64</th><th>Float64</th><th>Float64</th></tr></thead><tbody><p>3 rows × 3 columns</p><tr><th>1</th><td>0.473393</td><td>0.761692</td><td>0.187777</td></tr><tr><th>2</th><td>0.417283</td><td>0.43573</td><td>0.791492</td></tr><tr><th>3</th><td>0.0992364</td><td>0.703291</td><td>0.782124</td></tr></tbody></table>"
      ],
      "text/latex": [
       "\\begin{tabular}{r|ccc}\n",
       "\t& x1 & x2 & x3\\\\\n",
       "\t\\hline\n",
       "\t& Float64 & Float64 & Float64\\\\\n",
       "\t\\hline\n",
       "\t1 & 0.473393 & 0.761692 & 0.187777 \\\\\n",
       "\t2 & 0.417283 & 0.43573 & 0.791492 \\\\\n",
       "\t3 & 0.0992364 & 0.703291 & 0.782124 \\\\\n",
       "\\end{tabular}\n"
      ],
      "text/plain": [
       "3×3 DataFrame\n",
       "│ Row │ x1        │ x2       │ x3       │\n",
       "│     │ \u001b[90mFloat64\u001b[39m   │ \u001b[90mFloat64\u001b[39m  │ \u001b[90mFloat64\u001b[39m  │\n",
       "├─────┼───────────┼──────────┼──────────┤\n",
       "│ 1   │ 0.473393  │ 0.761692 │ 0.187777 │\n",
       "│ 2   │ 0.417283  │ 0.43573  │ 0.791492 │\n",
       "│ 3   │ 0.0992364 │ 0.703291 │ 0.782124 │"
      ]
     },
     "execution_count": 29,
     "metadata": {},
     "output_type": "execute_result"
    }
   ],
   "source": [
    "last(df, 3)"
   ]
  },
  {
   "cell_type": "markdown",
   "metadata": {},
   "source": [
    "## df[row_start_index:row_end_index , col_start_index:col_stop_index]"
   ]
  },
  {
   "cell_type": "code",
   "execution_count": 35,
   "metadata": {},
   "outputs": [
    {
     "data": {
      "text/html": [
       "<table class=\"data-frame\"><thead><tr><th></th><th>x1</th><th>x2</th></tr><tr><th></th><th>Float64</th><th>Float64</th></tr></thead><tbody><p>7 rows × 2 columns</p><tr><th>1</th><td>0.96464</td><td>0.564373</td></tr><tr><th>2</th><td>0.527552</td><td>0.102327</td></tr><tr><th>3</th><td>0.766339</td><td>0.131121</td></tr><tr><th>4</th><td>0.872853</td><td>0.0278844</td></tr><tr><th>5</th><td>0.12567</td><td>0.805258</td></tr><tr><th>6</th><td>0.436172</td><td>0.0416481</td></tr><tr><th>7</th><td>0.786183</td><td>0.800423</td></tr></tbody></table>"
      ],
      "text/latex": [
       "\\begin{tabular}{r|cc}\n",
       "\t& x1 & x2\\\\\n",
       "\t\\hline\n",
       "\t& Float64 & Float64\\\\\n",
       "\t\\hline\n",
       "\t1 & 0.96464 & 0.564373 \\\\\n",
       "\t2 & 0.527552 & 0.102327 \\\\\n",
       "\t3 & 0.766339 & 0.131121 \\\\\n",
       "\t4 & 0.872853 & 0.0278844 \\\\\n",
       "\t5 & 0.12567 & 0.805258 \\\\\n",
       "\t6 & 0.436172 & 0.0416481 \\\\\n",
       "\t7 & 0.786183 & 0.800423 \\\\\n",
       "\\end{tabular}\n"
      ],
      "text/plain": [
       "7×2 DataFrame\n",
       "│ Row │ x1       │ x2        │\n",
       "│     │ \u001b[90mFloat64\u001b[39m  │ \u001b[90mFloat64\u001b[39m   │\n",
       "├─────┼──────────┼───────────┤\n",
       "│ 1   │ 0.96464  │ 0.564373  │\n",
       "│ 2   │ 0.527552 │ 0.102327  │\n",
       "│ 3   │ 0.766339 │ 0.131121  │\n",
       "│ 4   │ 0.872853 │ 0.0278844 │\n",
       "│ 5   │ 0.12567  │ 0.805258  │\n",
       "│ 6   │ 0.436172 │ 0.0416481 │\n",
       "│ 7   │ 0.786183 │ 0.800423  │"
      ]
     },
     "execution_count": 35,
     "metadata": {},
     "output_type": "execute_result"
    }
   ],
   "source": [
    "df[1:7,1:2]"
   ]
  },
  {
   "cell_type": "code",
   "execution_count": 31,
   "metadata": {},
   "outputs": [
    {
     "data": {
      "text/plain": [
       "10-element Array{Float64,1}:\n",
       " 0.23053216746712413\n",
       " 0.021516852196594494\n",
       " 0.9346969198219717\n",
       " 0.9594534356262001\n",
       " 0.04969759935480833\n",
       " 0.8159698516453162\n",
       " 0.48782455158997995\n",
       " 0.1877774537042467\n",
       " 0.7914919257910615\n",
       " 0.7821241026344197"
      ]
     },
     "execution_count": 31,
     "metadata": {},
     "output_type": "execute_result"
    }
   ],
   "source": [
    "df[3]"
   ]
  },
  {
   "cell_type": "code",
   "execution_count": 36,
   "metadata": {},
   "outputs": [
    {
     "data": {
      "text/html": [
       "<table class=\"data-frame\"><thead><tr><th></th><th>x2</th><th>x3</th></tr><tr><th></th><th>Float64</th><th>Float64</th></tr></thead><tbody><p>10 rows × 2 columns</p><tr><th>1</th><td>0.564373</td><td>0.230532</td></tr><tr><th>2</th><td>0.102327</td><td>0.0215169</td></tr><tr><th>3</th><td>0.131121</td><td>0.934697</td></tr><tr><th>4</th><td>0.0278844</td><td>0.959453</td></tr><tr><th>5</th><td>0.805258</td><td>0.0496976</td></tr><tr><th>6</th><td>0.0416481</td><td>0.81597</td></tr><tr><th>7</th><td>0.800423</td><td>0.487825</td></tr><tr><th>8</th><td>0.761692</td><td>0.187777</td></tr><tr><th>9</th><td>0.43573</td><td>0.791492</td></tr><tr><th>10</th><td>0.703291</td><td>0.782124</td></tr></tbody></table>"
      ],
      "text/latex": [
       "\\begin{tabular}{r|cc}\n",
       "\t& x2 & x3\\\\\n",
       "\t\\hline\n",
       "\t& Float64 & Float64\\\\\n",
       "\t\\hline\n",
       "\t1 & 0.564373 & 0.230532 \\\\\n",
       "\t2 & 0.102327 & 0.0215169 \\\\\n",
       "\t3 & 0.131121 & 0.934697 \\\\\n",
       "\t4 & 0.0278844 & 0.959453 \\\\\n",
       "\t5 & 0.805258 & 0.0496976 \\\\\n",
       "\t6 & 0.0416481 & 0.81597 \\\\\n",
       "\t7 & 0.800423 & 0.487825 \\\\\n",
       "\t8 & 0.761692 & 0.187777 \\\\\n",
       "\t9 & 0.43573 & 0.791492 \\\\\n",
       "\t10 & 0.703291 & 0.782124 \\\\\n",
       "\\end{tabular}\n"
      ],
      "text/plain": [
       "10×2 DataFrame\n",
       "│ Row │ x2        │ x3        │\n",
       "│     │ \u001b[90mFloat64\u001b[39m   │ \u001b[90mFloat64\u001b[39m   │\n",
       "├─────┼───────────┼───────────┤\n",
       "│ 1   │ 0.564373  │ 0.230532  │\n",
       "│ 2   │ 0.102327  │ 0.0215169 │\n",
       "│ 3   │ 0.131121  │ 0.934697  │\n",
       "│ 4   │ 0.0278844 │ 0.959453  │\n",
       "│ 5   │ 0.805258  │ 0.0496976 │\n",
       "│ 6   │ 0.0416481 │ 0.81597   │\n",
       "│ 7   │ 0.800423  │ 0.487825  │\n",
       "│ 8   │ 0.761692  │ 0.187777  │\n",
       "│ 9   │ 0.43573   │ 0.791492  │\n",
       "│ 10  │ 0.703291  │ 0.782124  │"
      ]
     },
     "execution_count": 36,
     "metadata": {},
     "output_type": "execute_result"
    }
   ],
   "source": [
    "df[:, Between(:x2, :x3)]"
   ]
  },
  {
   "cell_type": "code",
   "execution_count": 37,
   "metadata": {},
   "outputs": [
    {
     "data": {
      "text/plain": [
       "10-element Array{Float64,1}:\n",
       " 0.15196681074230156\n",
       " 0.7713193526485806\n",
       " 0.07961296847253418\n",
       " 0.5274001871267886\n",
       " 0.5871892557008938\n",
       " 0.03904583622622937\n",
       " 0.0661020852753409\n",
       " 0.6839713677066606\n",
       " 0.6060026978375959\n",
       " 0.7328737085966832"
      ]
     },
     "execution_count": 37,
     "metadata": {},
     "output_type": "execute_result"
    }
   ],
   "source": [
    "df.x4 = rand(10)"
   ]
  },
  {
   "cell_type": "code",
   "execution_count": 38,
   "metadata": {},
   "outputs": [
    {
     "data": {
      "text/html": [
       "<table class=\"data-frame\"><thead><tr><th></th><th>x1</th><th>x2</th><th>x3</th><th>x4</th></tr><tr><th></th><th>Float64</th><th>Float64</th><th>Float64</th><th>Float64</th></tr></thead><tbody><p>10 rows × 4 columns</p><tr><th>1</th><td>0.96464</td><td>0.564373</td><td>0.230532</td><td>0.151967</td></tr><tr><th>2</th><td>0.527552</td><td>0.102327</td><td>0.0215169</td><td>0.771319</td></tr><tr><th>3</th><td>0.766339</td><td>0.131121</td><td>0.934697</td><td>0.079613</td></tr><tr><th>4</th><td>0.872853</td><td>0.0278844</td><td>0.959453</td><td>0.5274</td></tr><tr><th>5</th><td>0.12567</td><td>0.805258</td><td>0.0496976</td><td>0.587189</td></tr><tr><th>6</th><td>0.436172</td><td>0.0416481</td><td>0.81597</td><td>0.0390458</td></tr><tr><th>7</th><td>0.786183</td><td>0.800423</td><td>0.487825</td><td>0.0661021</td></tr><tr><th>8</th><td>0.473393</td><td>0.761692</td><td>0.187777</td><td>0.683971</td></tr><tr><th>9</th><td>0.417283</td><td>0.43573</td><td>0.791492</td><td>0.606003</td></tr><tr><th>10</th><td>0.0992364</td><td>0.703291</td><td>0.782124</td><td>0.732874</td></tr></tbody></table>"
      ],
      "text/latex": [
       "\\begin{tabular}{r|cccc}\n",
       "\t& x1 & x2 & x3 & x4\\\\\n",
       "\t\\hline\n",
       "\t& Float64 & Float64 & Float64 & Float64\\\\\n",
       "\t\\hline\n",
       "\t1 & 0.96464 & 0.564373 & 0.230532 & 0.151967 \\\\\n",
       "\t2 & 0.527552 & 0.102327 & 0.0215169 & 0.771319 \\\\\n",
       "\t3 & 0.766339 & 0.131121 & 0.934697 & 0.079613 \\\\\n",
       "\t4 & 0.872853 & 0.0278844 & 0.959453 & 0.5274 \\\\\n",
       "\t5 & 0.12567 & 0.805258 & 0.0496976 & 0.587189 \\\\\n",
       "\t6 & 0.436172 & 0.0416481 & 0.81597 & 0.0390458 \\\\\n",
       "\t7 & 0.786183 & 0.800423 & 0.487825 & 0.0661021 \\\\\n",
       "\t8 & 0.473393 & 0.761692 & 0.187777 & 0.683971 \\\\\n",
       "\t9 & 0.417283 & 0.43573 & 0.791492 & 0.606003 \\\\\n",
       "\t10 & 0.0992364 & 0.703291 & 0.782124 & 0.732874 \\\\\n",
       "\\end{tabular}\n"
      ],
      "text/plain": [
       "10×4 DataFrame\n",
       "│ Row │ x1        │ x2        │ x3        │ x4        │\n",
       "│     │ \u001b[90mFloat64\u001b[39m   │ \u001b[90mFloat64\u001b[39m   │ \u001b[90mFloat64\u001b[39m   │ \u001b[90mFloat64\u001b[39m   │\n",
       "├─────┼───────────┼───────────┼───────────┼───────────┤\n",
       "│ 1   │ 0.96464   │ 0.564373  │ 0.230532  │ 0.151967  │\n",
       "│ 2   │ 0.527552  │ 0.102327  │ 0.0215169 │ 0.771319  │\n",
       "│ 3   │ 0.766339  │ 0.131121  │ 0.934697  │ 0.079613  │\n",
       "│ 4   │ 0.872853  │ 0.0278844 │ 0.959453  │ 0.5274    │\n",
       "│ 5   │ 0.12567   │ 0.805258  │ 0.0496976 │ 0.587189  │\n",
       "│ 6   │ 0.436172  │ 0.0416481 │ 0.81597   │ 0.0390458 │\n",
       "│ 7   │ 0.786183  │ 0.800423  │ 0.487825  │ 0.0661021 │\n",
       "│ 8   │ 0.473393  │ 0.761692  │ 0.187777  │ 0.683971  │\n",
       "│ 9   │ 0.417283  │ 0.43573   │ 0.791492  │ 0.606003  │\n",
       "│ 10  │ 0.0992364 │ 0.703291  │ 0.782124  │ 0.732874  │"
      ]
     },
     "execution_count": 38,
     "metadata": {},
     "output_type": "execute_result"
    }
   ],
   "source": [
    "df"
   ]
  },
  {
   "cell_type": "markdown",
   "metadata": {},
   "source": [
    "# Writing and Reading Df"
   ]
  },
  {
   "cell_type": "code",
   "execution_count": 39,
   "metadata": {},
   "outputs": [],
   "source": [
    "using DataFrames"
   ]
  },
  {
   "cell_type": "code",
   "execution_count": 40,
   "metadata": {},
   "outputs": [
    {
     "data": {
      "text/html": [
       "<table class=\"data-frame\"><thead><tr><th></th><th>A</th><th>B</th><th>C</th></tr><tr><th></th><th>Bool</th><th>Int64</th><th>Char</th></tr></thead><tbody><p>3 rows × 3 columns</p><tr><th>1</th><td>1</td><td>25</td><td>'a'</td></tr><tr><th>2</th><td>0</td><td>45</td><td>'b'</td></tr><tr><th>3</th><td>1</td><td>67</td><td>'c'</td></tr></tbody></table>"
      ],
      "text/latex": [
       "\\begin{tabular}{r|ccc}\n",
       "\t& A & B & C\\\\\n",
       "\t\\hline\n",
       "\t& Bool & Int64 & Char\\\\\n",
       "\t\\hline\n",
       "\t1 & 1 & 25 & 'a' \\\\\n",
       "\t2 & 0 & 45 & 'b' \\\\\n",
       "\t3 & 1 & 67 & 'c' \\\\\n",
       "\\end{tabular}\n"
      ],
      "text/plain": [
       "3×3 DataFrame\n",
       "│ Row │ A    │ B     │ C    │\n",
       "│     │ \u001b[90mBool\u001b[39m │ \u001b[90mInt64\u001b[39m │ \u001b[90mChar\u001b[39m │\n",
       "├─────┼──────┼───────┼──────┤\n",
       "│ 1   │ 1    │ 25    │ 'a'  │\n",
       "│ 2   │ 0    │ 45    │ 'b'  │\n",
       "│ 3   │ 1    │ 67    │ 'c'  │"
      ]
     },
     "execution_count": 40,
     "metadata": {},
     "output_type": "execute_result"
    }
   ],
   "source": [
    "df = DataFrame(A = [true, false, true], B = [25, 45, 67], C = ['a','b','c'])"
   ]
  },
  {
   "cell_type": "markdown",
   "metadata": {},
   "source": [
    "# Write to csv"
   ]
  },
  {
   "cell_type": "code",
   "execution_count": 41,
   "metadata": {},
   "outputs": [
    {
     "name": "stderr",
     "output_type": "stream",
     "text": [
      "\u001b[32m\u001b[1m   Updating\u001b[22m\u001b[39m registry at `C:\\Users\\bishw\\.julia\\registries\\General`\n",
      "\u001b[32m\u001b[1m  Resolving\u001b[22m\u001b[39m package versions...\n",
      "\u001b[32m\u001b[1m  Installed\u001b[22m\u001b[39m SentinelArrays ─ v1.2.16\n",
      "\u001b[32m\u001b[1m  Installed\u001b[22m\u001b[39m CSV ──────────── v0.7.7\n",
      "\u001b[32m\u001b[1mUpdating\u001b[22m\u001b[39m `C:\\Users\\bishw\\.julia\\environments\\v1.5\\Project.toml`\n",
      " \u001b[90m [336ed68f] \u001b[39m\u001b[92m+ CSV v0.7.7\u001b[39m\n",
      "\u001b[32m\u001b[1mUpdating\u001b[22m\u001b[39m `C:\\Users\\bishw\\.julia\\environments\\v1.5\\Manifest.toml`\n",
      " \u001b[90m [336ed68f] \u001b[39m\u001b[92m+ CSV v0.7.7\u001b[39m\n",
      " \u001b[90m [91c51154] \u001b[39m\u001b[92m+ SentinelArrays v1.2.16\u001b[39m\n"
     ]
    }
   ],
   "source": [
    "Pkg.add(\"CSV\")"
   ]
  },
  {
   "cell_type": "code",
   "execution_count": 6,
   "metadata": {},
   "outputs": [],
   "source": [
    "using CSV"
   ]
  },
  {
   "cell_type": "code",
   "execution_count": 27,
   "metadata": {},
   "outputs": [
    {
     "data": {
      "text/html": [
       "<table class=\"data-frame\"><thead><tr><th></th><th>x1</th><th>x2</th><th>x3</th></tr><tr><th></th><th>Float64</th><th>Float64</th><th>Float64</th></tr></thead><tbody><p>6 rows × 3 columns</p><tr><th>1</th><td>0.12567</td><td>0.805258</td><td>0.0496976</td></tr><tr><th>2</th><td>0.436172</td><td>0.0416481</td><td>0.81597</td></tr><tr><th>3</th><td>0.786183</td><td>0.800423</td><td>0.487825</td></tr><tr><th>4</th><td>0.473393</td><td>0.761692</td><td>0.187777</td></tr><tr><th>5</th><td>0.417283</td><td>0.43573</td><td>0.791492</td></tr><tr><th>6</th><td>0.0992364</td><td>0.703291</td><td>0.782124</td></tr></tbody></table>"
      ],
      "text/latex": [
       "\\begin{tabular}{r|ccc}\n",
       "\t& x1 & x2 & x3\\\\\n",
       "\t\\hline\n",
       "\t& Float64 & Float64 & Float64\\\\\n",
       "\t\\hline\n",
       "\t1 & 0.12567 & 0.805258 & 0.0496976 \\\\\n",
       "\t2 & 0.436172 & 0.0416481 & 0.81597 \\\\\n",
       "\t3 & 0.786183 & 0.800423 & 0.487825 \\\\\n",
       "\t4 & 0.473393 & 0.761692 & 0.187777 \\\\\n",
       "\t5 & 0.417283 & 0.43573 & 0.791492 \\\\\n",
       "\t6 & 0.0992364 & 0.703291 & 0.782124 \\\\\n",
       "\\end{tabular}\n"
      ],
      "text/plain": [
       "6×3 DataFrame\n",
       "│ Row │ x1        │ x2        │ x3        │\n",
       "│     │ \u001b[90mFloat64\u001b[39m   │ \u001b[90mFloat64\u001b[39m   │ \u001b[90mFloat64\u001b[39m   │\n",
       "├─────┼───────────┼───────────┼───────────┤\n",
       "│ 1   │ 0.12567   │ 0.805258  │ 0.0496976 │\n",
       "│ 2   │ 0.436172  │ 0.0416481 │ 0.81597   │\n",
       "│ 3   │ 0.786183  │ 0.800423  │ 0.487825  │\n",
       "│ 4   │ 0.473393  │ 0.761692  │ 0.187777  │\n",
       "│ 5   │ 0.417283  │ 0.43573   │ 0.791492  │\n",
       "│ 6   │ 0.0992364 │ 0.703291  │ 0.782124  │"
      ]
     },
     "execution_count": 27,
     "metadata": {},
     "output_type": "execute_result"
    }
   ],
   "source": [
    "tail(df)"
   ]
  },
  {
   "cell_type": "code",
   "execution_count": 46,
   "metadata": {},
   "outputs": [
    {
     "data": {
      "text/plain": [
       "\"test.csv\""
      ]
     },
     "execution_count": 46,
     "metadata": {},
     "output_type": "execute_result"
    }
   ],
   "source": [
    "CSV.write(\"test.csv\",df)"
   ]
  },
  {
   "cell_type": "code",
   "execution_count": 47,
   "metadata": {},
   "outputs": [
    {
     "data": {
      "text/html": [
       "<table class=\"data-frame\"><thead><tr><th></th><th>A</th><th>B</th><th>C</th></tr><tr><th></th><th>Bool</th><th>Int64</th><th>String</th></tr></thead><tbody><p>3 rows × 3 columns</p><tr><th>1</th><td>1</td><td>25</td><td>a</td></tr><tr><th>2</th><td>0</td><td>45</td><td>b</td></tr><tr><th>3</th><td>1</td><td>67</td><td>c</td></tr></tbody></table>"
      ],
      "text/latex": [
       "\\begin{tabular}{r|ccc}\n",
       "\t& A & B & C\\\\\n",
       "\t\\hline\n",
       "\t& Bool & Int64 & String\\\\\n",
       "\t\\hline\n",
       "\t1 & 1 & 25 & a \\\\\n",
       "\t2 & 0 & 45 & b \\\\\n",
       "\t3 & 1 & 67 & c \\\\\n",
       "\\end{tabular}\n"
      ],
      "text/plain": [
       "3×3 DataFrame\n",
       "│ Row │ A    │ B     │ C      │\n",
       "│     │ \u001b[90mBool\u001b[39m │ \u001b[90mInt64\u001b[39m │ \u001b[90mString\u001b[39m │\n",
       "├─────┼──────┼───────┼────────┤\n",
       "│ 1   │ 1    │ 25    │ a      │\n",
       "│ 2   │ 0    │ 45    │ b      │\n",
       "│ 3   │ 1    │ 67    │ c      │"
      ]
     },
     "execution_count": 47,
     "metadata": {},
     "output_type": "execute_result"
    }
   ],
   "source": [
    "CSV.read(\"test.csv\")"
   ]
  },
  {
   "cell_type": "markdown",
   "metadata": {},
   "source": [
    "# Serialization and deserialization"
   ]
  },
  {
   "cell_type": "code",
   "execution_count": 2,
   "metadata": {},
   "outputs": [],
   "source": [
    "using Pkg"
   ]
  },
  {
   "cell_type": "code",
   "execution_count": 3,
   "metadata": {},
   "outputs": [
    {
     "name": "stderr",
     "output_type": "stream",
     "text": [
      "\u001b[32m\u001b[1m   Updating\u001b[22m\u001b[39m registry at `C:\\Users\\bishw\\.julia\\registries\\General`\n",
      "\u001b[32m\u001b[1m  Resolving\u001b[22m\u001b[39m package versions...\n",
      "\u001b[32m\u001b[1mUpdating\u001b[22m\u001b[39m `C:\\Users\\bishw\\.julia\\environments\\v1.5\\Project.toml`\n",
      " \u001b[90m [9e88b42a] \u001b[39m\u001b[92m+ Serialization\u001b[39m\n",
      "\u001b[32m\u001b[1mNo Changes\u001b[22m\u001b[39m to `C:\\Users\\bishw\\.julia\\environments\\v1.5\\Manifest.toml`\n"
     ]
    }
   ],
   "source": [
    "Pkg.add(\"Serialization\")"
   ]
  },
  {
   "cell_type": "code",
   "execution_count": 5,
   "metadata": {},
   "outputs": [],
   "source": [
    "using Serialization"
   ]
  },
  {
   "cell_type": "code",
   "execution_count": 7,
   "metadata": {},
   "outputs": [
    {
     "data": {
      "text/html": [
       "<table class=\"data-frame\"><thead><tr><th></th><th>A</th><th>B</th><th>C</th></tr><tr><th></th><th>Bool</th><th>Int64</th><th>String</th></tr></thead><tbody><p>3 rows × 3 columns</p><tr><th>1</th><td>1</td><td>25</td><td>a</td></tr><tr><th>2</th><td>0</td><td>45</td><td>b</td></tr><tr><th>3</th><td>1</td><td>67</td><td>c</td></tr></tbody></table>"
      ],
      "text/latex": [
       "\\begin{tabular}{r|ccc}\n",
       "\t& A & B & C\\\\\n",
       "\t\\hline\n",
       "\t& Bool & Int64 & String\\\\\n",
       "\t\\hline\n",
       "\t1 & 1 & 25 & a \\\\\n",
       "\t2 & 0 & 45 & b \\\\\n",
       "\t3 & 1 & 67 & c \\\\\n",
       "\\end{tabular}\n"
      ],
      "text/plain": [
       "3×3 DataFrame\n",
       "│ Row │ A    │ B     │ C      │\n",
       "│     │ \u001b[90mBool\u001b[39m │ \u001b[90mInt64\u001b[39m │ \u001b[90mString\u001b[39m │\n",
       "├─────┼──────┼───────┼────────┤\n",
       "│ 1   │ 1    │ 25    │ a      │\n",
       "│ 2   │ 0    │ 45    │ b      │\n",
       "│ 3   │ 1    │ 67    │ c      │"
      ]
     },
     "execution_count": 7,
     "metadata": {},
     "output_type": "execute_result"
    }
   ],
   "source": [
    "df = CSV.read(\"test.csv\")"
   ]
  },
  {
   "cell_type": "code",
   "execution_count": 13,
   "metadata": {},
   "outputs": [],
   "source": [
    "open(\"test_df.bin\", \"a+\") do io\n",
    "    serialize(io, df)\n",
    "end"
   ]
  },
  {
   "cell_type": "code",
   "execution_count": 14,
   "metadata": {},
   "outputs": [
    {
     "data": {
      "text/html": [
       "<table class=\"data-frame\"><thead><tr><th></th><th>A</th><th>B</th><th>C</th></tr><tr><th></th><th>Bool</th><th>Int64</th><th>String</th></tr></thead><tbody><p>3 rows × 3 columns</p><tr><th>1</th><td>1</td><td>25</td><td>a</td></tr><tr><th>2</th><td>0</td><td>45</td><td>b</td></tr><tr><th>3</th><td>1</td><td>67</td><td>c</td></tr></tbody></table>"
      ],
      "text/latex": [
       "\\begin{tabular}{r|ccc}\n",
       "\t& A & B & C\\\\\n",
       "\t\\hline\n",
       "\t& Bool & Int64 & String\\\\\n",
       "\t\\hline\n",
       "\t1 & 1 & 25 & a \\\\\n",
       "\t2 & 0 & 45 & b \\\\\n",
       "\t3 & 1 & 67 & c \\\\\n",
       "\\end{tabular}\n"
      ],
      "text/plain": [
       "3×3 DataFrame\n",
       "│ Row │ A    │ B     │ C      │\n",
       "│     │ \u001b[90mBool\u001b[39m │ \u001b[90mInt64\u001b[39m │ \u001b[90mString\u001b[39m │\n",
       "├─────┼──────┼───────┼────────┤\n",
       "│ 1   │ 1    │ 25    │ a      │\n",
       "│ 2   │ 0    │ 45    │ b      │\n",
       "│ 3   │ 1    │ 67    │ c      │"
      ]
     },
     "execution_count": 14,
     "metadata": {},
     "output_type": "execute_result"
    }
   ],
   "source": [
    "open(deserialize, \"test_df.bin\")"
   ]
  },
  {
   "cell_type": "markdown",
   "metadata": {},
   "source": [
    "# JSON Table"
   ]
  },
  {
   "cell_type": "code",
   "execution_count": 16,
   "metadata": {},
   "outputs": [
    {
     "name": "stderr",
     "output_type": "stream",
     "text": [
      "\u001b[32m\u001b[1m  Resolving\u001b[22m\u001b[39m package versions...\n",
      "\u001b[32m\u001b[1m  Installed\u001b[22m\u001b[39m JSONTables ─ v1.0.0\n",
      "\u001b[32m\u001b[1m  Installed\u001b[22m\u001b[39m JSON3 ────── v1.4.0\n",
      "\u001b[32m\u001b[1mUpdating\u001b[22m\u001b[39m `C:\\Users\\bishw\\.julia\\environments\\v1.5\\Project.toml`\n",
      " \u001b[90m [b9914132] \u001b[39m\u001b[92m+ JSONTables v1.0.0\u001b[39m\n",
      "\u001b[32m\u001b[1mUpdating\u001b[22m\u001b[39m `C:\\Users\\bishw\\.julia\\environments\\v1.5\\Manifest.toml`\n",
      " \u001b[90m [0f8b85d8] \u001b[39m\u001b[92m+ JSON3 v1.4.0\u001b[39m\n",
      " \u001b[90m [b9914132] \u001b[39m\u001b[92m+ JSONTables v1.0.0\u001b[39m\n"
     ]
    }
   ],
   "source": [
    "Pkg.add(\"JSONTables\")"
   ]
  },
  {
   "cell_type": "code",
   "execution_count": 18,
   "metadata": {},
   "outputs": [
    {
     "name": "stderr",
     "output_type": "stream",
     "text": [
      "┌ Info: Precompiling JSONTables [b9914132-a727-11e9-1322-f18e41205b0b]\n",
      "└ @ Base loading.jl:1278\n"
     ]
    }
   ],
   "source": [
    "using JSONTables"
   ]
  },
  {
   "cell_type": "code",
   "execution_count": 20,
   "metadata": {},
   "outputs": [
    {
     "data": {
      "text/plain": [
       "80"
      ]
     },
     "execution_count": 20,
     "metadata": {},
     "output_type": "execute_result"
    }
   ],
   "source": [
    "open(io -> arraytable(io, df), \"df.json\",\"w\")"
   ]
  },
  {
   "cell_type": "code",
   "execution_count": 21,
   "metadata": {},
   "outputs": [
    {
     "data": {
      "text/plain": [
       "JSONTables.Table{false,JSON3.Array{JSON3.Object,Base.CodeUnits{UInt8,String},Array{UInt64,1}}}(JSON3.Object[{\n",
       "   \"A\": true,\n",
       "   \"B\": 25,\n",
       "   \"C\": \"a\"\n",
       "}, {\n",
       "   \"A\": false,\n",
       "   \"B\": 45,\n",
       "   \"C\": \"b\"\n",
       "}, {\n",
       "   \"A\": true,\n",
       "   \"B\": 67,\n",
       "   \"C\": \"c\"\n",
       "}])"
      ]
     },
     "execution_count": 21,
     "metadata": {},
     "output_type": "execute_result"
    }
   ],
   "source": [
    "open(jsontable, \"df.json\")"
   ]
  },
  {
   "cell_type": "markdown",
   "metadata": {},
   "source": [
    "# Converting json to dataframe"
   ]
  },
  {
   "cell_type": "code",
   "execution_count": 22,
   "metadata": {},
   "outputs": [],
   "source": [
    "using DataFrames"
   ]
  },
  {
   "cell_type": "code",
   "execution_count": 23,
   "metadata": {},
   "outputs": [
    {
     "data": {
      "text/html": [
       "<table class=\"data-frame\"><thead><tr><th></th><th>A</th><th>B</th><th>C</th></tr><tr><th></th><th>Bool</th><th>Int64</th><th>String</th></tr></thead><tbody><p>3 rows × 3 columns</p><tr><th>1</th><td>1</td><td>25</td><td>a</td></tr><tr><th>2</th><td>0</td><td>45</td><td>b</td></tr><tr><th>3</th><td>1</td><td>67</td><td>c</td></tr></tbody></table>"
      ],
      "text/latex": [
       "\\begin{tabular}{r|ccc}\n",
       "\t& A & B & C\\\\\n",
       "\t\\hline\n",
       "\t& Bool & Int64 & String\\\\\n",
       "\t\\hline\n",
       "\t1 & 1 & 25 & a \\\\\n",
       "\t2 & 0 & 45 & b \\\\\n",
       "\t3 & 1 & 67 & c \\\\\n",
       "\\end{tabular}\n"
      ],
      "text/plain": [
       "3×3 DataFrame\n",
       "│ Row │ A    │ B     │ C      │\n",
       "│     │ \u001b[90mBool\u001b[39m │ \u001b[90mInt64\u001b[39m │ \u001b[90mString\u001b[39m │\n",
       "├─────┼──────┼───────┼────────┤\n",
       "│ 1   │ 1    │ 25    │ a      │\n",
       "│ 2   │ 0    │ 45    │ b      │\n",
       "│ 3   │ 1    │ 67    │ c      │"
      ]
     },
     "execution_count": 23,
     "metadata": {},
     "output_type": "execute_result"
    }
   ],
   "source": [
    "open(jsontable, \"df.json\") |> DataFrame"
   ]
  },
  {
   "cell_type": "markdown",
   "metadata": {},
   "source": [
    "# Some more DataFrame ops"
   ]
  },
  {
   "cell_type": "code",
   "execution_count": 52,
   "metadata": {},
   "outputs": [
    {
     "data": {
      "text/html": [
       "<table class=\"data-frame\"><thead><tr><th></th><th>x1</th><th>x2</th><th>x3</th><th>x4</th><th>x5</th></tr><tr><th></th><th>Float64</th><th>Float64</th><th>Float64</th><th>Float64</th><th>Float64</th></tr></thead><tbody><p>4 rows × 5 columns</p><tr><th>1</th><td>0.309907</td><td>0.234871</td><td>0.188315</td><td>0.919124</td><td>0.977102</td></tr><tr><th>2</th><td>0.183587</td><td>0.364404</td><td>0.184993</td><td>0.997119</td><td>0.729478</td></tr><tr><th>3</th><td>0.190888</td><td>0.747084</td><td>0.387466</td><td>0.832611</td><td>0.602587</td></tr><tr><th>4</th><td>0.149946</td><td>0.735382</td><td>0.479742</td><td>0.424468</td><td>0.609364</td></tr></tbody></table>"
      ],
      "text/latex": [
       "\\begin{tabular}{r|ccccc}\n",
       "\t& x1 & x2 & x3 & x4 & x5\\\\\n",
       "\t\\hline\n",
       "\t& Float64 & Float64 & Float64 & Float64 & Float64\\\\\n",
       "\t\\hline\n",
       "\t1 & 0.309907 & 0.234871 & 0.188315 & 0.919124 & 0.977102 \\\\\n",
       "\t2 & 0.183587 & 0.364404 & 0.184993 & 0.997119 & 0.729478 \\\\\n",
       "\t3 & 0.190888 & 0.747084 & 0.387466 & 0.832611 & 0.602587 \\\\\n",
       "\t4 & 0.149946 & 0.735382 & 0.479742 & 0.424468 & 0.609364 \\\\\n",
       "\\end{tabular}\n"
      ],
      "text/plain": [
       "4×5 DataFrame\n",
       "│ Row │ x1       │ x2       │ x3       │ x4       │ x5       │\n",
       "│     │ \u001b[90mFloat64\u001b[39m  │ \u001b[90mFloat64\u001b[39m  │ \u001b[90mFloat64\u001b[39m  │ \u001b[90mFloat64\u001b[39m  │ \u001b[90mFloat64\u001b[39m  │\n",
       "├─────┼──────────┼──────────┼──────────┼──────────┼──────────┤\n",
       "│ 1   │ 0.309907 │ 0.234871 │ 0.188315 │ 0.919124 │ 0.977102 │\n",
       "│ 2   │ 0.183587 │ 0.364404 │ 0.184993 │ 0.997119 │ 0.729478 │\n",
       "│ 3   │ 0.190888 │ 0.747084 │ 0.387466 │ 0.832611 │ 0.602587 │\n",
       "│ 4   │ 0.149946 │ 0.735382 │ 0.479742 │ 0.424468 │ 0.609364 │"
      ]
     },
     "execution_count": 52,
     "metadata": {},
     "output_type": "execute_result"
    }
   ],
   "source": [
    "df1 = DataFrame(rand(4,5))"
   ]
  },
  {
   "cell_type": "code",
   "execution_count": 44,
   "metadata": {},
   "outputs": [
    {
     "data": {
      "text/html": [
       "<table class=\"data-frame\"><thead><tr><th></th><th>c1</th><th>x2</th><th>x3</th><th>c4</th><th>x5</th></tr><tr><th></th><th>Float64</th><th>Float64</th><th>Float64</th><th>Float64</th><th>Float64</th></tr></thead><tbody><p>4 rows × 5 columns</p><tr><th>1</th><td>0.063174</td><td>0.274018</td><td>0.491558</td><td>0.459215</td><td>0.477774</td></tr><tr><th>2</th><td>0.950828</td><td>0.408987</td><td>0.6068</td><td>0.0746983</td><td>0.691915</td></tr><tr><th>3</th><td>0.771329</td><td>0.212521</td><td>0.113091</td><td>0.682093</td><td>0.417625</td></tr><tr><th>4</th><td>0.551821</td><td>0.36225</td><td>0.954696</td><td>0.0398798</td><td>0.768592</td></tr></tbody></table>"
      ],
      "text/latex": [
       "\\begin{tabular}{r|ccccc}\n",
       "\t& c1 & x2 & x3 & c4 & x5\\\\\n",
       "\t\\hline\n",
       "\t& Float64 & Float64 & Float64 & Float64 & Float64\\\\\n",
       "\t\\hline\n",
       "\t1 & 0.063174 & 0.274018 & 0.491558 & 0.459215 & 0.477774 \\\\\n",
       "\t2 & 0.950828 & 0.408987 & 0.6068 & 0.0746983 & 0.691915 \\\\\n",
       "\t3 & 0.771329 & 0.212521 & 0.113091 & 0.682093 & 0.417625 \\\\\n",
       "\t4 & 0.551821 & 0.36225 & 0.954696 & 0.0398798 & 0.768592 \\\\\n",
       "\\end{tabular}\n"
      ],
      "text/plain": [
       "4×5 DataFrame\n",
       "│ Row │ c1       │ x2       │ x3       │ c4        │ x5       │\n",
       "│     │ \u001b[90mFloat64\u001b[39m  │ \u001b[90mFloat64\u001b[39m  │ \u001b[90mFloat64\u001b[39m  │ \u001b[90mFloat64\u001b[39m   │ \u001b[90mFloat64\u001b[39m  │\n",
       "├─────┼──────────┼──────────┼──────────┼───────────┼──────────┤\n",
       "│ 1   │ 0.063174 │ 0.274018 │ 0.491558 │ 0.459215  │ 0.477774 │\n",
       "│ 2   │ 0.950828 │ 0.408987 │ 0.6068   │ 0.0746983 │ 0.691915 │\n",
       "│ 3   │ 0.771329 │ 0.212521 │ 0.113091 │ 0.682093  │ 0.417625 │\n",
       "│ 4   │ 0.551821 │ 0.36225  │ 0.954696 │ 0.0398798 │ 0.768592 │"
      ]
     },
     "execution_count": 44,
     "metadata": {},
     "output_type": "execute_result"
    }
   ],
   "source": [
    "rename(df1, :x1 => :c1, :x4 => :c4)"
   ]
  },
  {
   "cell_type": "code",
   "execution_count": 45,
   "metadata": {},
   "outputs": [
    {
     "data": {
      "text/html": [
       "<table class=\"data-frame\"><thead><tr><th></th><th>c1</th><th>c2</th><th>c3</th><th>c4</th><th>c5</th></tr><tr><th></th><th>Float64</th><th>Float64</th><th>Float64</th><th>Float64</th><th>Float64</th></tr></thead><tbody><p>4 rows × 5 columns</p><tr><th>1</th><td>0.063174</td><td>0.274018</td><td>0.491558</td><td>0.459215</td><td>0.477774</td></tr><tr><th>2</th><td>0.950828</td><td>0.408987</td><td>0.6068</td><td>0.0746983</td><td>0.691915</td></tr><tr><th>3</th><td>0.771329</td><td>0.212521</td><td>0.113091</td><td>0.682093</td><td>0.417625</td></tr><tr><th>4</th><td>0.551821</td><td>0.36225</td><td>0.954696</td><td>0.0398798</td><td>0.768592</td></tr></tbody></table>"
      ],
      "text/latex": [
       "\\begin{tabular}{r|ccccc}\n",
       "\t& c1 & c2 & c3 & c4 & c5\\\\\n",
       "\t\\hline\n",
       "\t& Float64 & Float64 & Float64 & Float64 & Float64\\\\\n",
       "\t\\hline\n",
       "\t1 & 0.063174 & 0.274018 & 0.491558 & 0.459215 & 0.477774 \\\\\n",
       "\t2 & 0.950828 & 0.408987 & 0.6068 & 0.0746983 & 0.691915 \\\\\n",
       "\t3 & 0.771329 & 0.212521 & 0.113091 & 0.682093 & 0.417625 \\\\\n",
       "\t4 & 0.551821 & 0.36225 & 0.954696 & 0.0398798 & 0.768592 \\\\\n",
       "\\end{tabular}\n"
      ],
      "text/plain": [
       "4×5 DataFrame\n",
       "│ Row │ c1       │ c2       │ c3       │ c4        │ c5       │\n",
       "│     │ \u001b[90mFloat64\u001b[39m  │ \u001b[90mFloat64\u001b[39m  │ \u001b[90mFloat64\u001b[39m  │ \u001b[90mFloat64\u001b[39m   │ \u001b[90mFloat64\u001b[39m  │\n",
       "├─────┼──────────┼──────────┼──────────┼───────────┼──────────┤\n",
       "│ 1   │ 0.063174 │ 0.274018 │ 0.491558 │ 0.459215  │ 0.477774 │\n",
       "│ 2   │ 0.950828 │ 0.408987 │ 0.6068   │ 0.0746983 │ 0.691915 │\n",
       "│ 3   │ 0.771329 │ 0.212521 │ 0.113091 │ 0.682093  │ 0.417625 │\n",
       "│ 4   │ 0.551821 │ 0.36225  │ 0.954696 │ 0.0398798 │ 0.768592 │"
      ]
     },
     "execution_count": 45,
     "metadata": {},
     "output_type": "execute_result"
    }
   ],
   "source": [
    "rename(df1, [:c1, :c2, :c3, :c4, :c5])"
   ]
  },
  {
   "cell_type": "code",
   "execution_count": 46,
   "metadata": {},
   "outputs": [
    {
     "data": {
      "text/html": [
       "<table class=\"data-frame\"><thead><tr><th></th><th>a</th><th>b</th><th>c</th><th>d</th><th>e</th></tr><tr><th></th><th>Float64</th><th>Float64</th><th>Float64</th><th>Float64</th><th>Float64</th></tr></thead><tbody><p>4 rows × 5 columns</p><tr><th>1</th><td>0.063174</td><td>0.274018</td><td>0.491558</td><td>0.459215</td><td>0.477774</td></tr><tr><th>2</th><td>0.950828</td><td>0.408987</td><td>0.6068</td><td>0.0746983</td><td>0.691915</td></tr><tr><th>3</th><td>0.771329</td><td>0.212521</td><td>0.113091</td><td>0.682093</td><td>0.417625</td></tr><tr><th>4</th><td>0.551821</td><td>0.36225</td><td>0.954696</td><td>0.0398798</td><td>0.768592</td></tr></tbody></table>"
      ],
      "text/latex": [
       "\\begin{tabular}{r|ccccc}\n",
       "\t& a & b & c & d & e\\\\\n",
       "\t\\hline\n",
       "\t& Float64 & Float64 & Float64 & Float64 & Float64\\\\\n",
       "\t\\hline\n",
       "\t1 & 0.063174 & 0.274018 & 0.491558 & 0.459215 & 0.477774 \\\\\n",
       "\t2 & 0.950828 & 0.408987 & 0.6068 & 0.0746983 & 0.691915 \\\\\n",
       "\t3 & 0.771329 & 0.212521 & 0.113091 & 0.682093 & 0.417625 \\\\\n",
       "\t4 & 0.551821 & 0.36225 & 0.954696 & 0.0398798 & 0.768592 \\\\\n",
       "\\end{tabular}\n"
      ],
      "text/plain": [
       "4×5 DataFrame\n",
       "│ Row │ a        │ b        │ c        │ d         │ e        │\n",
       "│     │ \u001b[90mFloat64\u001b[39m  │ \u001b[90mFloat64\u001b[39m  │ \u001b[90mFloat64\u001b[39m  │ \u001b[90mFloat64\u001b[39m   │ \u001b[90mFloat64\u001b[39m  │\n",
       "├─────┼──────────┼──────────┼──────────┼───────────┼──────────┤\n",
       "│ 1   │ 0.063174 │ 0.274018 │ 0.491558 │ 0.459215  │ 0.477774 │\n",
       "│ 2   │ 0.950828 │ 0.408987 │ 0.6068   │ 0.0746983 │ 0.691915 │\n",
       "│ 3   │ 0.771329 │ 0.212521 │ 0.113091 │ 0.682093  │ 0.417625 │\n",
       "│ 4   │ 0.551821 │ 0.36225  │ 0.954696 │ 0.0398798 │ 0.768592 │"
      ]
     },
     "execution_count": 46,
     "metadata": {},
     "output_type": "execute_result"
    }
   ],
   "source": [
    "rename(df1, string.('a':'e'))"
   ]
  },
  {
   "cell_type": "markdown",
   "metadata": {},
   "source": [
    "# Concat two dfs"
   ]
  },
  {
   "cell_type": "code",
   "execution_count": 53,
   "metadata": {},
   "outputs": [
    {
     "data": {
      "text/html": [
       "<table class=\"data-frame\"><thead><tr><th></th><th>x1</th><th>x2</th><th>x3</th><th>x4</th><th>x5</th></tr><tr><th></th><th>Float64</th><th>Float64</th><th>Float64</th><th>Float64</th><th>Float64</th></tr></thead><tbody><p>4 rows × 5 columns</p><tr><th>1</th><td>0.783719</td><td>0.335515</td><td>0.788743</td><td>0.343894</td><td>0.530094</td></tr><tr><th>2</th><td>0.182523</td><td>0.619329</td><td>0.819596</td><td>0.885777</td><td>0.0530521</td></tr><tr><th>3</th><td>0.885176</td><td>0.189807</td><td>0.248694</td><td>0.662605</td><td>0.926863</td></tr><tr><th>4</th><td>0.410989</td><td>0.713635</td><td>0.0263261</td><td>0.126628</td><td>0.380239</td></tr></tbody></table>"
      ],
      "text/latex": [
       "\\begin{tabular}{r|ccccc}\n",
       "\t& x1 & x2 & x3 & x4 & x5\\\\\n",
       "\t\\hline\n",
       "\t& Float64 & Float64 & Float64 & Float64 & Float64\\\\\n",
       "\t\\hline\n",
       "\t1 & 0.783719 & 0.335515 & 0.788743 & 0.343894 & 0.530094 \\\\\n",
       "\t2 & 0.182523 & 0.619329 & 0.819596 & 0.885777 & 0.0530521 \\\\\n",
       "\t3 & 0.885176 & 0.189807 & 0.248694 & 0.662605 & 0.926863 \\\\\n",
       "\t4 & 0.410989 & 0.713635 & 0.0263261 & 0.126628 & 0.380239 \\\\\n",
       "\\end{tabular}\n"
      ],
      "text/plain": [
       "4×5 DataFrame\n",
       "│ Row │ x1       │ x2       │ x3        │ x4       │ x5        │\n",
       "│     │ \u001b[90mFloat64\u001b[39m  │ \u001b[90mFloat64\u001b[39m  │ \u001b[90mFloat64\u001b[39m   │ \u001b[90mFloat64\u001b[39m  │ \u001b[90mFloat64\u001b[39m   │\n",
       "├─────┼──────────┼──────────┼───────────┼──────────┼───────────┤\n",
       "│ 1   │ 0.783719 │ 0.335515 │ 0.788743  │ 0.343894 │ 0.530094  │\n",
       "│ 2   │ 0.182523 │ 0.619329 │ 0.819596  │ 0.885777 │ 0.0530521 │\n",
       "│ 3   │ 0.885176 │ 0.189807 │ 0.248694  │ 0.662605 │ 0.926863  │\n",
       "│ 4   │ 0.410989 │ 0.713635 │ 0.0263261 │ 0.126628 │ 0.380239  │"
      ]
     },
     "execution_count": 53,
     "metadata": {},
     "output_type": "execute_result"
    }
   ],
   "source": [
    "df2 = DataFrame(rand(4,5))"
   ]
  },
  {
   "cell_type": "code",
   "execution_count": 48,
   "metadata": {},
   "outputs": [
    {
     "data": {
      "text/html": [
       "<table class=\"data-frame\"><thead><tr><th></th><th>a</th><th>b</th><th>c</th><th>d</th><th>e</th></tr><tr><th></th><th>Float64</th><th>Float64</th><th>Float64</th><th>Float64</th><th>Float64</th></tr></thead><tbody><p>4 rows × 5 columns</p><tr><th>1</th><td>0.063174</td><td>0.274018</td><td>0.491558</td><td>0.459215</td><td>0.477774</td></tr><tr><th>2</th><td>0.950828</td><td>0.408987</td><td>0.6068</td><td>0.0746983</td><td>0.691915</td></tr><tr><th>3</th><td>0.771329</td><td>0.212521</td><td>0.113091</td><td>0.682093</td><td>0.417625</td></tr><tr><th>4</th><td>0.551821</td><td>0.36225</td><td>0.954696</td><td>0.0398798</td><td>0.768592</td></tr></tbody></table>"
      ],
      "text/latex": [
       "\\begin{tabular}{r|ccccc}\n",
       "\t& a & b & c & d & e\\\\\n",
       "\t\\hline\n",
       "\t& Float64 & Float64 & Float64 & Float64 & Float64\\\\\n",
       "\t\\hline\n",
       "\t1 & 0.063174 & 0.274018 & 0.491558 & 0.459215 & 0.477774 \\\\\n",
       "\t2 & 0.950828 & 0.408987 & 0.6068 & 0.0746983 & 0.691915 \\\\\n",
       "\t3 & 0.771329 & 0.212521 & 0.113091 & 0.682093 & 0.417625 \\\\\n",
       "\t4 & 0.551821 & 0.36225 & 0.954696 & 0.0398798 & 0.768592 \\\\\n",
       "\\end{tabular}\n"
      ],
      "text/plain": [
       "4×5 DataFrame\n",
       "│ Row │ a        │ b        │ c        │ d         │ e        │\n",
       "│     │ \u001b[90mFloat64\u001b[39m  │ \u001b[90mFloat64\u001b[39m  │ \u001b[90mFloat64\u001b[39m  │ \u001b[90mFloat64\u001b[39m   │ \u001b[90mFloat64\u001b[39m  │\n",
       "├─────┼──────────┼──────────┼──────────┼───────────┼──────────┤\n",
       "│ 1   │ 0.063174 │ 0.274018 │ 0.491558 │ 0.459215  │ 0.477774 │\n",
       "│ 2   │ 0.950828 │ 0.408987 │ 0.6068   │ 0.0746983 │ 0.691915 │\n",
       "│ 3   │ 0.771329 │ 0.212521 │ 0.113091 │ 0.682093  │ 0.417625 │\n",
       "│ 4   │ 0.551821 │ 0.36225  │ 0.954696 │ 0.0398798 │ 0.768592 │"
      ]
     },
     "execution_count": 48,
     "metadata": {},
     "output_type": "execute_result"
    }
   ],
   "source": [
    "rename!(df1, string.('a':'e'))"
   ]
  },
  {
   "cell_type": "code",
   "execution_count": 49,
   "metadata": {},
   "outputs": [
    {
     "data": {
      "text/html": [
       "<table class=\"data-frame\"><thead><tr><th></th><th>f</th><th>g</th><th>h</th><th>i</th><th>j</th></tr><tr><th></th><th>Float64</th><th>Float64</th><th>Float64</th><th>Float64</th><th>Float64</th></tr></thead><tbody><p>4 rows × 5 columns</p><tr><th>1</th><td>0.382677</td><td>0.482916</td><td>0.985104</td><td>0.721872</td><td>0.618449</td></tr><tr><th>2</th><td>0.607806</td><td>0.945204</td><td>0.833567</td><td>0.0187271</td><td>0.973369</td></tr><tr><th>3</th><td>0.482982</td><td>0.821117</td><td>0.731251</td><td>0.839938</td><td>0.753411</td></tr><tr><th>4</th><td>0.270513</td><td>0.26225</td><td>0.0958486</td><td>0.116687</td><td>0.991091</td></tr></tbody></table>"
      ],
      "text/latex": [
       "\\begin{tabular}{r|ccccc}\n",
       "\t& f & g & h & i & j\\\\\n",
       "\t\\hline\n",
       "\t& Float64 & Float64 & Float64 & Float64 & Float64\\\\\n",
       "\t\\hline\n",
       "\t1 & 0.382677 & 0.482916 & 0.985104 & 0.721872 & 0.618449 \\\\\n",
       "\t2 & 0.607806 & 0.945204 & 0.833567 & 0.0187271 & 0.973369 \\\\\n",
       "\t3 & 0.482982 & 0.821117 & 0.731251 & 0.839938 & 0.753411 \\\\\n",
       "\t4 & 0.270513 & 0.26225 & 0.0958486 & 0.116687 & 0.991091 \\\\\n",
       "\\end{tabular}\n"
      ],
      "text/plain": [
       "4×5 DataFrame\n",
       "│ Row │ f        │ g        │ h         │ i         │ j        │\n",
       "│     │ \u001b[90mFloat64\u001b[39m  │ \u001b[90mFloat64\u001b[39m  │ \u001b[90mFloat64\u001b[39m   │ \u001b[90mFloat64\u001b[39m   │ \u001b[90mFloat64\u001b[39m  │\n",
       "├─────┼──────────┼──────────┼───────────┼───────────┼──────────┤\n",
       "│ 1   │ 0.382677 │ 0.482916 │ 0.985104  │ 0.721872  │ 0.618449 │\n",
       "│ 2   │ 0.607806 │ 0.945204 │ 0.833567  │ 0.0187271 │ 0.973369 │\n",
       "│ 3   │ 0.482982 │ 0.821117 │ 0.731251  │ 0.839938  │ 0.753411 │\n",
       "│ 4   │ 0.270513 │ 0.26225  │ 0.0958486 │ 0.116687  │ 0.991091 │"
      ]
     },
     "execution_count": 49,
     "metadata": {},
     "output_type": "execute_result"
    }
   ],
   "source": [
    "rename!(df2, string.('f':'j'))"
   ]
  },
  {
   "cell_type": "code",
   "execution_count": 50,
   "metadata": {},
   "outputs": [
    {
     "data": {
      "text/html": [
       "<table class=\"data-frame\"><thead><tr><th></th><th>a</th><th>b</th><th>c</th><th>d</th><th>e</th><th>f</th><th>g</th><th>h</th></tr><tr><th></th><th>Float64</th><th>Float64</th><th>Float64</th><th>Float64</th><th>Float64</th><th>Float64</th><th>Float64</th><th>Float64</th></tr></thead><tbody><p>4 rows × 10 columns (omitted printing of 2 columns)</p><tr><th>1</th><td>0.063174</td><td>0.274018</td><td>0.491558</td><td>0.459215</td><td>0.477774</td><td>0.382677</td><td>0.482916</td><td>0.985104</td></tr><tr><th>2</th><td>0.950828</td><td>0.408987</td><td>0.6068</td><td>0.0746983</td><td>0.691915</td><td>0.607806</td><td>0.945204</td><td>0.833567</td></tr><tr><th>3</th><td>0.771329</td><td>0.212521</td><td>0.113091</td><td>0.682093</td><td>0.417625</td><td>0.482982</td><td>0.821117</td><td>0.731251</td></tr><tr><th>4</th><td>0.551821</td><td>0.36225</td><td>0.954696</td><td>0.0398798</td><td>0.768592</td><td>0.270513</td><td>0.26225</td><td>0.0958486</td></tr></tbody></table>"
      ],
      "text/latex": [
       "\\begin{tabular}{r|ccccccccc}\n",
       "\t& a & b & c & d & e & f & g & h & \\\\\n",
       "\t\\hline\n",
       "\t& Float64 & Float64 & Float64 & Float64 & Float64 & Float64 & Float64 & Float64 & \\\\\n",
       "\t\\hline\n",
       "\t1 & 0.063174 & 0.274018 & 0.491558 & 0.459215 & 0.477774 & 0.382677 & 0.482916 & 0.985104 & $\\dots$ \\\\\n",
       "\t2 & 0.950828 & 0.408987 & 0.6068 & 0.0746983 & 0.691915 & 0.607806 & 0.945204 & 0.833567 & $\\dots$ \\\\\n",
       "\t3 & 0.771329 & 0.212521 & 0.113091 & 0.682093 & 0.417625 & 0.482982 & 0.821117 & 0.731251 & $\\dots$ \\\\\n",
       "\t4 & 0.551821 & 0.36225 & 0.954696 & 0.0398798 & 0.768592 & 0.270513 & 0.26225 & 0.0958486 & $\\dots$ \\\\\n",
       "\\end{tabular}\n"
      ],
      "text/plain": [
       "4×10 DataFrame. Omitted printing of 4 columns\n",
       "│ Row │ a        │ b        │ c        │ d         │ e        │ f        │\n",
       "│     │ \u001b[90mFloat64\u001b[39m  │ \u001b[90mFloat64\u001b[39m  │ \u001b[90mFloat64\u001b[39m  │ \u001b[90mFloat64\u001b[39m   │ \u001b[90mFloat64\u001b[39m  │ \u001b[90mFloat64\u001b[39m  │\n",
       "├─────┼──────────┼──────────┼──────────┼───────────┼──────────┼──────────┤\n",
       "│ 1   │ 0.063174 │ 0.274018 │ 0.491558 │ 0.459215  │ 0.477774 │ 0.382677 │\n",
       "│ 2   │ 0.950828 │ 0.408987 │ 0.6068   │ 0.0746983 │ 0.691915 │ 0.607806 │\n",
       "│ 3   │ 0.771329 │ 0.212521 │ 0.113091 │ 0.682093  │ 0.417625 │ 0.482982 │\n",
       "│ 4   │ 0.551821 │ 0.36225  │ 0.954696 │ 0.0398798 │ 0.768592 │ 0.270513 │"
      ]
     },
     "execution_count": 50,
     "metadata": {},
     "output_type": "execute_result"
    }
   ],
   "source": [
    "hcat(df1, df2)"
   ]
  },
  {
   "cell_type": "code",
   "execution_count": 54,
   "metadata": {},
   "outputs": [
    {
     "data": {
      "text/html": [
       "<table class=\"data-frame\"><thead><tr><th></th><th>x1</th><th>x2</th><th>x3</th><th>x4</th><th>x5</th><th>x1_1</th><th>x2_1</th><th>x3_1</th></tr><tr><th></th><th>Float64</th><th>Float64</th><th>Float64</th><th>Float64</th><th>Float64</th><th>Float64</th><th>Float64</th><th>Float64</th></tr></thead><tbody><p>4 rows × 10 columns (omitted printing of 2 columns)</p><tr><th>1</th><td>0.309907</td><td>0.234871</td><td>0.188315</td><td>0.919124</td><td>0.977102</td><td>0.783719</td><td>0.335515</td><td>0.788743</td></tr><tr><th>2</th><td>0.183587</td><td>0.364404</td><td>0.184993</td><td>0.997119</td><td>0.729478</td><td>0.182523</td><td>0.619329</td><td>0.819596</td></tr><tr><th>3</th><td>0.190888</td><td>0.747084</td><td>0.387466</td><td>0.832611</td><td>0.602587</td><td>0.885176</td><td>0.189807</td><td>0.248694</td></tr><tr><th>4</th><td>0.149946</td><td>0.735382</td><td>0.479742</td><td>0.424468</td><td>0.609364</td><td>0.410989</td><td>0.713635</td><td>0.0263261</td></tr></tbody></table>"
      ],
      "text/latex": [
       "\\begin{tabular}{r|ccccccccc}\n",
       "\t& x1 & x2 & x3 & x4 & x5 & x1\\_1 & x2\\_1 & x3\\_1 & \\\\\n",
       "\t\\hline\n",
       "\t& Float64 & Float64 & Float64 & Float64 & Float64 & Float64 & Float64 & Float64 & \\\\\n",
       "\t\\hline\n",
       "\t1 & 0.309907 & 0.234871 & 0.188315 & 0.919124 & 0.977102 & 0.783719 & 0.335515 & 0.788743 & $\\dots$ \\\\\n",
       "\t2 & 0.183587 & 0.364404 & 0.184993 & 0.997119 & 0.729478 & 0.182523 & 0.619329 & 0.819596 & $\\dots$ \\\\\n",
       "\t3 & 0.190888 & 0.747084 & 0.387466 & 0.832611 & 0.602587 & 0.885176 & 0.189807 & 0.248694 & $\\dots$ \\\\\n",
       "\t4 & 0.149946 & 0.735382 & 0.479742 & 0.424468 & 0.609364 & 0.410989 & 0.713635 & 0.0263261 & $\\dots$ \\\\\n",
       "\\end{tabular}\n"
      ],
      "text/plain": [
       "4×10 DataFrame. Omitted printing of 4 columns\n",
       "│ Row │ x1       │ x2       │ x3       │ x4       │ x5       │ x1_1     │\n",
       "│     │ \u001b[90mFloat64\u001b[39m  │ \u001b[90mFloat64\u001b[39m  │ \u001b[90mFloat64\u001b[39m  │ \u001b[90mFloat64\u001b[39m  │ \u001b[90mFloat64\u001b[39m  │ \u001b[90mFloat64\u001b[39m  │\n",
       "├─────┼──────────┼──────────┼──────────┼──────────┼──────────┼──────────┤\n",
       "│ 1   │ 0.309907 │ 0.234871 │ 0.188315 │ 0.919124 │ 0.977102 │ 0.783719 │\n",
       "│ 2   │ 0.183587 │ 0.364404 │ 0.184993 │ 0.997119 │ 0.729478 │ 0.182523 │\n",
       "│ 3   │ 0.190888 │ 0.747084 │ 0.387466 │ 0.832611 │ 0.602587 │ 0.885176 │\n",
       "│ 4   │ 0.149946 │ 0.735382 │ 0.479742 │ 0.424468 │ 0.609364 │ 0.410989 │"
      ]
     },
     "execution_count": 54,
     "metadata": {},
     "output_type": "execute_result"
    }
   ],
   "source": [
    "hcat(df1, df2, makeunique = true)"
   ]
  },
  {
   "cell_type": "code",
   "execution_count": 56,
   "metadata": {},
   "outputs": [
    {
     "data": {
      "text/html": [
       "<table class=\"data-frame\"><thead><tr><th></th><th>x1</th><th>x2</th><th>x3</th><th>x4</th><th>x5</th></tr><tr><th></th><th>Float64</th><th>Float64</th><th>Float64</th><th>Float64</th><th>Float64</th></tr></thead><tbody><p>8 rows × 5 columns</p><tr><th>1</th><td>0.309907</td><td>0.234871</td><td>0.188315</td><td>0.919124</td><td>0.977102</td></tr><tr><th>2</th><td>0.183587</td><td>0.364404</td><td>0.184993</td><td>0.997119</td><td>0.729478</td></tr><tr><th>3</th><td>0.190888</td><td>0.747084</td><td>0.387466</td><td>0.832611</td><td>0.602587</td></tr><tr><th>4</th><td>0.149946</td><td>0.735382</td><td>0.479742</td><td>0.424468</td><td>0.609364</td></tr><tr><th>5</th><td>0.783719</td><td>0.335515</td><td>0.788743</td><td>0.343894</td><td>0.530094</td></tr><tr><th>6</th><td>0.182523</td><td>0.619329</td><td>0.819596</td><td>0.885777</td><td>0.0530521</td></tr><tr><th>7</th><td>0.885176</td><td>0.189807</td><td>0.248694</td><td>0.662605</td><td>0.926863</td></tr><tr><th>8</th><td>0.410989</td><td>0.713635</td><td>0.0263261</td><td>0.126628</td><td>0.380239</td></tr></tbody></table>"
      ],
      "text/latex": [
       "\\begin{tabular}{r|ccccc}\n",
       "\t& x1 & x2 & x3 & x4 & x5\\\\\n",
       "\t\\hline\n",
       "\t& Float64 & Float64 & Float64 & Float64 & Float64\\\\\n",
       "\t\\hline\n",
       "\t1 & 0.309907 & 0.234871 & 0.188315 & 0.919124 & 0.977102 \\\\\n",
       "\t2 & 0.183587 & 0.364404 & 0.184993 & 0.997119 & 0.729478 \\\\\n",
       "\t3 & 0.190888 & 0.747084 & 0.387466 & 0.832611 & 0.602587 \\\\\n",
       "\t4 & 0.149946 & 0.735382 & 0.479742 & 0.424468 & 0.609364 \\\\\n",
       "\t5 & 0.783719 & 0.335515 & 0.788743 & 0.343894 & 0.530094 \\\\\n",
       "\t6 & 0.182523 & 0.619329 & 0.819596 & 0.885777 & 0.0530521 \\\\\n",
       "\t7 & 0.885176 & 0.189807 & 0.248694 & 0.662605 & 0.926863 \\\\\n",
       "\t8 & 0.410989 & 0.713635 & 0.0263261 & 0.126628 & 0.380239 \\\\\n",
       "\\end{tabular}\n"
      ],
      "text/plain": [
       "8×5 DataFrame\n",
       "│ Row │ x1       │ x2       │ x3        │ x4       │ x5        │\n",
       "│     │ \u001b[90mFloat64\u001b[39m  │ \u001b[90mFloat64\u001b[39m  │ \u001b[90mFloat64\u001b[39m   │ \u001b[90mFloat64\u001b[39m  │ \u001b[90mFloat64\u001b[39m   │\n",
       "├─────┼──────────┼──────────┼───────────┼──────────┼───────────┤\n",
       "│ 1   │ 0.309907 │ 0.234871 │ 0.188315  │ 0.919124 │ 0.977102  │\n",
       "│ 2   │ 0.183587 │ 0.364404 │ 0.184993  │ 0.997119 │ 0.729478  │\n",
       "│ 3   │ 0.190888 │ 0.747084 │ 0.387466  │ 0.832611 │ 0.602587  │\n",
       "│ 4   │ 0.149946 │ 0.735382 │ 0.479742  │ 0.424468 │ 0.609364  │\n",
       "│ 5   │ 0.783719 │ 0.335515 │ 0.788743  │ 0.343894 │ 0.530094  │\n",
       "│ 6   │ 0.182523 │ 0.619329 │ 0.819596  │ 0.885777 │ 0.0530521 │\n",
       "│ 7   │ 0.885176 │ 0.189807 │ 0.248694  │ 0.662605 │ 0.926863  │\n",
       "│ 8   │ 0.410989 │ 0.713635 │ 0.0263261 │ 0.126628 │ 0.380239  │"
      ]
     },
     "execution_count": 56,
     "metadata": {},
     "output_type": "execute_result"
    }
   ],
   "source": [
    "vcat(df1, df2)"
   ]
  },
  {
   "cell_type": "markdown",
   "metadata": {},
   "source": [
    "# One way to add new cols"
   ]
  },
  {
   "cell_type": "code",
   "execution_count": 58,
   "metadata": {},
   "outputs": [
    {
     "data": {
      "text/plain": [
       "4-element Array{Float64,1}:\n",
       " 0.15715465541229667\n",
       " 0.9204325330151324\n",
       " 0.9213583459884243\n",
       " 0.427313902616421"
      ]
     },
     "execution_count": 58,
     "metadata": {},
     "output_type": "execute_result"
    }
   ],
   "source": [
    "df1.x5 = rand(4)"
   ]
  },
  {
   "cell_type": "code",
   "execution_count": 59,
   "metadata": {},
   "outputs": [
    {
     "data": {
      "text/html": [
       "<table class=\"data-frame\"><thead><tr><th></th><th>x1</th><th>x2</th><th>x3</th><th>x4</th><th>x5</th></tr><tr><th></th><th>Float64</th><th>Float64</th><th>Float64</th><th>Float64</th><th>Float64</th></tr></thead><tbody><p>4 rows × 5 columns</p><tr><th>1</th><td>0.309907</td><td>0.234871</td><td>0.188315</td><td>0.919124</td><td>0.157155</td></tr><tr><th>2</th><td>0.183587</td><td>0.364404</td><td>0.184993</td><td>0.997119</td><td>0.920433</td></tr><tr><th>3</th><td>0.190888</td><td>0.747084</td><td>0.387466</td><td>0.832611</td><td>0.921358</td></tr><tr><th>4</th><td>0.149946</td><td>0.735382</td><td>0.479742</td><td>0.424468</td><td>0.427314</td></tr></tbody></table>"
      ],
      "text/latex": [
       "\\begin{tabular}{r|ccccc}\n",
       "\t& x1 & x2 & x3 & x4 & x5\\\\\n",
       "\t\\hline\n",
       "\t& Float64 & Float64 & Float64 & Float64 & Float64\\\\\n",
       "\t\\hline\n",
       "\t1 & 0.309907 & 0.234871 & 0.188315 & 0.919124 & 0.157155 \\\\\n",
       "\t2 & 0.183587 & 0.364404 & 0.184993 & 0.997119 & 0.920433 \\\\\n",
       "\t3 & 0.190888 & 0.747084 & 0.387466 & 0.832611 & 0.921358 \\\\\n",
       "\t4 & 0.149946 & 0.735382 & 0.479742 & 0.424468 & 0.427314 \\\\\n",
       "\\end{tabular}\n"
      ],
      "text/plain": [
       "4×5 DataFrame\n",
       "│ Row │ x1       │ x2       │ x3       │ x4       │ x5       │\n",
       "│     │ \u001b[90mFloat64\u001b[39m  │ \u001b[90mFloat64\u001b[39m  │ \u001b[90mFloat64\u001b[39m  │ \u001b[90mFloat64\u001b[39m  │ \u001b[90mFloat64\u001b[39m  │\n",
       "├─────┼──────────┼──────────┼──────────┼──────────┼──────────┤\n",
       "│ 1   │ 0.309907 │ 0.234871 │ 0.188315 │ 0.919124 │ 0.157155 │\n",
       "│ 2   │ 0.183587 │ 0.364404 │ 0.184993 │ 0.997119 │ 0.920433 │\n",
       "│ 3   │ 0.190888 │ 0.747084 │ 0.387466 │ 0.832611 │ 0.921358 │\n",
       "│ 4   │ 0.149946 │ 0.735382 │ 0.479742 │ 0.424468 │ 0.427314 │"
      ]
     },
     "execution_count": 59,
     "metadata": {},
     "output_type": "execute_result"
    }
   ],
   "source": [
    "df1"
   ]
  },
  {
   "cell_type": "code",
   "execution_count": 60,
   "metadata": {},
   "outputs": [
    {
     "data": {
      "text/html": [
       "<table class=\"data-frame\"><thead><tr><th></th><th>x1</th><th>x2</th><th>x3</th><th>x4</th><th>x5</th><th>A</th></tr><tr><th></th><th>Float64</th><th>Float64</th><th>Float64</th><th>Float64</th><th>Float64</th><th>Int64</th></tr></thead><tbody><p>4 rows × 6 columns</p><tr><th>1</th><td>0.309907</td><td>0.234871</td><td>0.188315</td><td>0.919124</td><td>0.157155</td><td>1</td></tr><tr><th>2</th><td>0.183587</td><td>0.364404</td><td>0.184993</td><td>0.997119</td><td>0.920433</td><td>3</td></tr><tr><th>3</th><td>0.190888</td><td>0.747084</td><td>0.387466</td><td>0.832611</td><td>0.921358</td><td>4</td></tr><tr><th>4</th><td>0.149946</td><td>0.735382</td><td>0.479742</td><td>0.424468</td><td>0.427314</td><td>5</td></tr></tbody></table>"
      ],
      "text/latex": [
       "\\begin{tabular}{r|cccccc}\n",
       "\t& x1 & x2 & x3 & x4 & x5 & A\\\\\n",
       "\t\\hline\n",
       "\t& Float64 & Float64 & Float64 & Float64 & Float64 & Int64\\\\\n",
       "\t\\hline\n",
       "\t1 & 0.309907 & 0.234871 & 0.188315 & 0.919124 & 0.157155 & 1 \\\\\n",
       "\t2 & 0.183587 & 0.364404 & 0.184993 & 0.997119 & 0.920433 & 3 \\\\\n",
       "\t3 & 0.190888 & 0.747084 & 0.387466 & 0.832611 & 0.921358 & 4 \\\\\n",
       "\t4 & 0.149946 & 0.735382 & 0.479742 & 0.424468 & 0.427314 & 5 \\\\\n",
       "\\end{tabular}\n"
      ],
      "text/plain": [
       "4×6 DataFrame\n",
       "│ Row │ x1       │ x2       │ x3       │ x4       │ x5       │ A     │\n",
       "│     │ \u001b[90mFloat64\u001b[39m  │ \u001b[90mFloat64\u001b[39m  │ \u001b[90mFloat64\u001b[39m  │ \u001b[90mFloat64\u001b[39m  │ \u001b[90mFloat64\u001b[39m  │ \u001b[90mInt64\u001b[39m │\n",
       "├─────┼──────────┼──────────┼──────────┼──────────┼──────────┼───────┤\n",
       "│ 1   │ 0.309907 │ 0.234871 │ 0.188315 │ 0.919124 │ 0.157155 │ 1     │\n",
       "│ 2   │ 0.183587 │ 0.364404 │ 0.184993 │ 0.997119 │ 0.920433 │ 3     │\n",
       "│ 3   │ 0.190888 │ 0.747084 │ 0.387466 │ 0.832611 │ 0.921358 │ 4     │\n",
       "│ 4   │ 0.149946 │ 0.735382 │ 0.479742 │ 0.424468 │ 0.427314 │ 5     │"
      ]
     },
     "execution_count": 60,
     "metadata": {},
     "output_type": "execute_result"
    }
   ],
   "source": [
    "[df1 DataFrame(A = [1,3,4,5])]"
   ]
  },
  {
   "cell_type": "code",
   "execution_count": 61,
   "metadata": {},
   "outputs": [
    {
     "data": {
      "text/html": [
       "<table class=\"data-frame\"><thead><tr><th></th><th>A</th><th>x1</th><th>x2</th><th>x3</th><th>x4</th><th>x5</th></tr><tr><th></th><th>Int64</th><th>Float64</th><th>Float64</th><th>Float64</th><th>Float64</th><th>Float64</th></tr></thead><tbody><p>4 rows × 6 columns</p><tr><th>1</th><td>1</td><td>0.309907</td><td>0.234871</td><td>0.188315</td><td>0.919124</td><td>0.157155</td></tr><tr><th>2</th><td>3</td><td>0.183587</td><td>0.364404</td><td>0.184993</td><td>0.997119</td><td>0.920433</td></tr><tr><th>3</th><td>4</td><td>0.190888</td><td>0.747084</td><td>0.387466</td><td>0.832611</td><td>0.921358</td></tr><tr><th>4</th><td>5</td><td>0.149946</td><td>0.735382</td><td>0.479742</td><td>0.424468</td><td>0.427314</td></tr></tbody></table>"
      ],
      "text/latex": [
       "\\begin{tabular}{r|cccccc}\n",
       "\t& A & x1 & x2 & x3 & x4 & x5\\\\\n",
       "\t\\hline\n",
       "\t& Int64 & Float64 & Float64 & Float64 & Float64 & Float64\\\\\n",
       "\t\\hline\n",
       "\t1 & 1 & 0.309907 & 0.234871 & 0.188315 & 0.919124 & 0.157155 \\\\\n",
       "\t2 & 3 & 0.183587 & 0.364404 & 0.184993 & 0.997119 & 0.920433 \\\\\n",
       "\t3 & 4 & 0.190888 & 0.747084 & 0.387466 & 0.832611 & 0.921358 \\\\\n",
       "\t4 & 5 & 0.149946 & 0.735382 & 0.479742 & 0.424468 & 0.427314 \\\\\n",
       "\\end{tabular}\n"
      ],
      "text/plain": [
       "4×6 DataFrame\n",
       "│ Row │ A     │ x1       │ x2       │ x3       │ x4       │ x5       │\n",
       "│     │ \u001b[90mInt64\u001b[39m │ \u001b[90mFloat64\u001b[39m  │ \u001b[90mFloat64\u001b[39m  │ \u001b[90mFloat64\u001b[39m  │ \u001b[90mFloat64\u001b[39m  │ \u001b[90mFloat64\u001b[39m  │\n",
       "├─────┼───────┼──────────┼──────────┼──────────┼──────────┼──────────┤\n",
       "│ 1   │ 1     │ 0.309907 │ 0.234871 │ 0.188315 │ 0.919124 │ 0.157155 │\n",
       "│ 2   │ 3     │ 0.183587 │ 0.364404 │ 0.184993 │ 0.997119 │ 0.920433 │\n",
       "│ 3   │ 4     │ 0.190888 │ 0.747084 │ 0.387466 │ 0.832611 │ 0.921358 │\n",
       "│ 4   │ 5     │ 0.149946 │ 0.735382 │ 0.479742 │ 0.424468 │ 0.427314 │"
      ]
     },
     "execution_count": 61,
     "metadata": {},
     "output_type": "execute_result"
    }
   ],
   "source": [
    "[DataFrame(A = [1,3,4,5]) df1 ]"
   ]
  },
  {
   "cell_type": "code",
   "execution_count": 62,
   "metadata": {},
   "outputs": [
    {
     "data": {
      "text/html": [
       "<table class=\"data-frame\"><thead><tr><th></th><th>x1</th><th>x2</th><th>newcol</th><th>x3</th><th>x4</th><th>x5</th></tr><tr><th></th><th>Float64</th><th>Float64</th><th>Int64</th><th>Float64</th><th>Float64</th><th>Float64</th></tr></thead><tbody><p>4 rows × 6 columns</p><tr><th>1</th><td>0.309907</td><td>0.234871</td><td>1</td><td>0.188315</td><td>0.919124</td><td>0.157155</td></tr><tr><th>2</th><td>0.183587</td><td>0.364404</td><td>2</td><td>0.184993</td><td>0.997119</td><td>0.920433</td></tr><tr><th>3</th><td>0.190888</td><td>0.747084</td><td>3</td><td>0.387466</td><td>0.832611</td><td>0.921358</td></tr><tr><th>4</th><td>0.149946</td><td>0.735382</td><td>4</td><td>0.479742</td><td>0.424468</td><td>0.427314</td></tr></tbody></table>"
      ],
      "text/latex": [
       "\\begin{tabular}{r|cccccc}\n",
       "\t& x1 & x2 & newcol & x3 & x4 & x5\\\\\n",
       "\t\\hline\n",
       "\t& Float64 & Float64 & Int64 & Float64 & Float64 & Float64\\\\\n",
       "\t\\hline\n",
       "\t1 & 0.309907 & 0.234871 & 1 & 0.188315 & 0.919124 & 0.157155 \\\\\n",
       "\t2 & 0.183587 & 0.364404 & 2 & 0.184993 & 0.997119 & 0.920433 \\\\\n",
       "\t3 & 0.190888 & 0.747084 & 3 & 0.387466 & 0.832611 & 0.921358 \\\\\n",
       "\t4 & 0.149946 & 0.735382 & 4 & 0.479742 & 0.424468 & 0.427314 \\\\\n",
       "\\end{tabular}\n"
      ],
      "text/plain": [
       "4×6 DataFrame\n",
       "│ Row │ x1       │ x2       │ newcol │ x3       │ x4       │ x5       │\n",
       "│     │ \u001b[90mFloat64\u001b[39m  │ \u001b[90mFloat64\u001b[39m  │ \u001b[90mInt64\u001b[39m  │ \u001b[90mFloat64\u001b[39m  │ \u001b[90mFloat64\u001b[39m  │ \u001b[90mFloat64\u001b[39m  │\n",
       "├─────┼──────────┼──────────┼────────┼──────────┼──────────┼──────────┤\n",
       "│ 1   │ 0.309907 │ 0.234871 │ 1      │ 0.188315 │ 0.919124 │ 0.157155 │\n",
       "│ 2   │ 0.183587 │ 0.364404 │ 2      │ 0.184993 │ 0.997119 │ 0.920433 │\n",
       "│ 3   │ 0.190888 │ 0.747084 │ 3      │ 0.387466 │ 0.832611 │ 0.921358 │\n",
       "│ 4   │ 0.149946 │ 0.735382 │ 4      │ 0.479742 │ 0.424468 │ 0.427314 │"
      ]
     },
     "execution_count": 62,
     "metadata": {},
     "output_type": "execute_result"
    }
   ],
   "source": [
    "insertcols!(df1, 3, newcol = [1,2,3,4] )"
   ]
  },
  {
   "cell_type": "code",
   "execution_count": 70,
   "metadata": {},
   "outputs": [
    {
     "data": {
      "text/html": [
       "<table class=\"data-frame\"><thead><tr><th></th><th>x2</th><th>x3</th></tr><tr><th></th><th>Float64</th><th>Float64</th></tr></thead><tbody><p>4 rows × 2 columns</p><tr><th>1</th><td>0.234871</td><td>0.188315</td></tr><tr><th>2</th><td>0.364404</td><td>0.184993</td></tr><tr><th>3</th><td>0.747084</td><td>0.387466</td></tr><tr><th>4</th><td>0.735382</td><td>0.479742</td></tr></tbody></table>"
      ],
      "text/latex": [
       "\\begin{tabular}{r|cc}\n",
       "\t& x2 & x3\\\\\n",
       "\t\\hline\n",
       "\t& Float64 & Float64\\\\\n",
       "\t\\hline\n",
       "\t1 & 0.234871 & 0.188315 \\\\\n",
       "\t2 & 0.364404 & 0.184993 \\\\\n",
       "\t3 & 0.747084 & 0.387466 \\\\\n",
       "\t4 & 0.735382 & 0.479742 \\\\\n",
       "\\end{tabular}\n"
      ],
      "text/plain": [
       "4×2 DataFrame\n",
       "│ Row │ x2       │ x3       │\n",
       "│     │ \u001b[90mFloat64\u001b[39m  │ \u001b[90mFloat64\u001b[39m  │\n",
       "├─────┼──────────┼──────────┤\n",
       "│ 1   │ 0.234871 │ 0.188315 │\n",
       "│ 2   │ 0.364404 │ 0.184993 │\n",
       "│ 3   │ 0.747084 │ 0.387466 │\n",
       "│ 4   │ 0.735382 │ 0.479742 │"
      ]
     },
     "execution_count": 70,
     "metadata": {},
     "output_type": "execute_result"
    }
   ],
   "source": [
    "df1[:,[:x2,:x3]]"
   ]
  },
  {
   "cell_type": "code",
   "execution_count": 71,
   "metadata": {},
   "outputs": [
    {
     "data": {
      "text/html": [
       "<table class=\"data-frame\"><thead><tr><th></th><th>x1</th><th>x2</th><th>newcol</th><th>x3</th><th>x4</th><th>x5</th></tr><tr><th></th><th>Float64</th><th>Float64</th><th>Int64</th><th>Float64</th><th>Float64</th><th>Float64</th></tr></thead><tbody><p>4 rows × 6 columns</p><tr><th>1</th><td>0.309907</td><td>0.234871</td><td>1</td><td>0.188315</td><td>0.919124</td><td>0.157155</td></tr><tr><th>2</th><td>0.183587</td><td>0.364404</td><td>2</td><td>0.184993</td><td>0.997119</td><td>0.920433</td></tr><tr><th>3</th><td>0.190888</td><td>0.747084</td><td>3</td><td>0.387466</td><td>0.832611</td><td>0.921358</td></tr><tr><th>4</th><td>0.149946</td><td>0.735382</td><td>4</td><td>0.479742</td><td>0.424468</td><td>0.427314</td></tr></tbody></table>"
      ],
      "text/latex": [
       "\\begin{tabular}{r|cccccc}\n",
       "\t& x1 & x2 & newcol & x3 & x4 & x5\\\\\n",
       "\t\\hline\n",
       "\t& Float64 & Float64 & Int64 & Float64 & Float64 & Float64\\\\\n",
       "\t\\hline\n",
       "\t1 & 0.309907 & 0.234871 & 1 & 0.188315 & 0.919124 & 0.157155 \\\\\n",
       "\t2 & 0.183587 & 0.364404 & 2 & 0.184993 & 0.997119 & 0.920433 \\\\\n",
       "\t3 & 0.190888 & 0.747084 & 3 & 0.387466 & 0.832611 & 0.921358 \\\\\n",
       "\t4 & 0.149946 & 0.735382 & 4 & 0.479742 & 0.424468 & 0.427314 \\\\\n",
       "\\end{tabular}\n"
      ],
      "text/plain": [
       "4×6 DataFrame\n",
       "│ Row │ x1       │ x2       │ newcol │ x3       │ x4       │ x5       │\n",
       "│     │ \u001b[90mFloat64\u001b[39m  │ \u001b[90mFloat64\u001b[39m  │ \u001b[90mInt64\u001b[39m  │ \u001b[90mFloat64\u001b[39m  │ \u001b[90mFloat64\u001b[39m  │ \u001b[90mFloat64\u001b[39m  │\n",
       "├─────┼──────────┼──────────┼────────┼──────────┼──────────┼──────────┤\n",
       "│ 1   │ 0.309907 │ 0.234871 │ 1      │ 0.188315 │ 0.919124 │ 0.157155 │\n",
       "│ 2   │ 0.183587 │ 0.364404 │ 2      │ 0.184993 │ 0.997119 │ 0.920433 │\n",
       "│ 3   │ 0.190888 │ 0.747084 │ 3      │ 0.387466 │ 0.832611 │ 0.921358 │\n",
       "│ 4   │ 0.149946 │ 0.735382 │ 4      │ 0.479742 │ 0.424468 │ 0.427314 │"
      ]
     },
     "execution_count": 71,
     "metadata": {},
     "output_type": "execute_result"
    }
   ],
   "source": [
    "cp_df1 = copy(df1)"
   ]
  },
  {
   "cell_type": "code",
   "execution_count": 72,
   "metadata": {},
   "outputs": [
    {
     "data": {
      "text/plain": [
       "true"
      ]
     },
     "execution_count": 72,
     "metadata": {},
     "output_type": "execute_result"
    }
   ],
   "source": [
    "df1 == cp_df1"
   ]
  },
  {
   "cell_type": "code",
   "execution_count": 73,
   "metadata": {},
   "outputs": [
    {
     "data": {
      "text/html": [
       "<table class=\"data-frame\"><thead><tr><th></th><th>x1</th><th>x2</th><th>newcol</th><th>x3</th><th>x4</th><th>x5</th></tr><tr><th></th><th>Float64</th><th>Float64</th><th>Int64</th><th>Float64</th><th>Float64</th><th>Float64</th></tr></thead><tbody><p>4 rows × 6 columns</p><tr><th>1</th><td>0.149946</td><td>0.735382</td><td>4</td><td>0.479742</td><td>0.424468</td><td>0.427314</td></tr><tr><th>2</th><td>0.183587</td><td>0.364404</td><td>2</td><td>0.184993</td><td>0.997119</td><td>0.920433</td></tr><tr><th>3</th><td>0.190888</td><td>0.747084</td><td>3</td><td>0.387466</td><td>0.832611</td><td>0.921358</td></tr><tr><th>4</th><td>0.309907</td><td>0.234871</td><td>1</td><td>0.188315</td><td>0.919124</td><td>0.157155</td></tr></tbody></table>"
      ],
      "text/latex": [
       "\\begin{tabular}{r|cccccc}\n",
       "\t& x1 & x2 & newcol & x3 & x4 & x5\\\\\n",
       "\t\\hline\n",
       "\t& Float64 & Float64 & Int64 & Float64 & Float64 & Float64\\\\\n",
       "\t\\hline\n",
       "\t1 & 0.149946 & 0.735382 & 4 & 0.479742 & 0.424468 & 0.427314 \\\\\n",
       "\t2 & 0.183587 & 0.364404 & 2 & 0.184993 & 0.997119 & 0.920433 \\\\\n",
       "\t3 & 0.190888 & 0.747084 & 3 & 0.387466 & 0.832611 & 0.921358 \\\\\n",
       "\t4 & 0.309907 & 0.234871 & 1 & 0.188315 & 0.919124 & 0.157155 \\\\\n",
       "\\end{tabular}\n"
      ],
      "text/plain": [
       "4×6 DataFrame\n",
       "│ Row │ x1       │ x2       │ newcol │ x3       │ x4       │ x5       │\n",
       "│     │ \u001b[90mFloat64\u001b[39m  │ \u001b[90mFloat64\u001b[39m  │ \u001b[90mInt64\u001b[39m  │ \u001b[90mFloat64\u001b[39m  │ \u001b[90mFloat64\u001b[39m  │ \u001b[90mFloat64\u001b[39m  │\n",
       "├─────┼──────────┼──────────┼────────┼──────────┼──────────┼──────────┤\n",
       "│ 1   │ 0.149946 │ 0.735382 │ 4      │ 0.479742 │ 0.424468 │ 0.427314 │\n",
       "│ 2   │ 0.183587 │ 0.364404 │ 2      │ 0.184993 │ 0.997119 │ 0.920433 │\n",
       "│ 3   │ 0.190888 │ 0.747084 │ 3      │ 0.387466 │ 0.832611 │ 0.921358 │\n",
       "│ 4   │ 0.309907 │ 0.234871 │ 1      │ 0.188315 │ 0.919124 │ 0.157155 │"
      ]
     },
     "execution_count": 73,
     "metadata": {},
     "output_type": "execute_result"
    }
   ],
   "source": [
    "sort(df1, :x1)"
   ]
  },
  {
   "cell_type": "code",
   "execution_count": 74,
   "metadata": {},
   "outputs": [
    {
     "data": {
      "text/html": [
       "<table class=\"data-frame\"><thead><tr><th></th><th>x1</th><th>x2</th><th>newcol</th><th>x3</th><th>x4</th><th>x5</th></tr><tr><th></th><th>Float64</th><th>Float64</th><th>Int64</th><th>Float64</th><th>Float64</th><th>Float64</th></tr></thead><tbody><p>3 rows × 6 columns</p><tr><th>1</th><td>0.309907</td><td>0.234871</td><td>1</td><td>0.188315</td><td>0.919124</td><td>0.157155</td></tr><tr><th>2</th><td>0.183587</td><td>0.364404</td><td>2</td><td>0.184993</td><td>0.997119</td><td>0.920433</td></tr><tr><th>3</th><td>0.190888</td><td>0.747084</td><td>3</td><td>0.387466</td><td>0.832611</td><td>0.921358</td></tr></tbody></table>"
      ],
      "text/latex": [
       "\\begin{tabular}{r|cccccc}\n",
       "\t& x1 & x2 & newcol & x3 & x4 & x5\\\\\n",
       "\t\\hline\n",
       "\t& Float64 & Float64 & Int64 & Float64 & Float64 & Float64\\\\\n",
       "\t\\hline\n",
       "\t1 & 0.309907 & 0.234871 & 1 & 0.188315 & 0.919124 & 0.157155 \\\\\n",
       "\t2 & 0.183587 & 0.364404 & 2 & 0.184993 & 0.997119 & 0.920433 \\\\\n",
       "\t3 & 0.190888 & 0.747084 & 3 & 0.387466 & 0.832611 & 0.921358 \\\\\n",
       "\\end{tabular}\n"
      ],
      "text/plain": [
       "3×6 DataFrame\n",
       "│ Row │ x1       │ x2       │ newcol │ x3       │ x4       │ x5       │\n",
       "│     │ \u001b[90mFloat64\u001b[39m  │ \u001b[90mFloat64\u001b[39m  │ \u001b[90mInt64\u001b[39m  │ \u001b[90mFloat64\u001b[39m  │ \u001b[90mFloat64\u001b[39m  │ \u001b[90mFloat64\u001b[39m  │\n",
       "├─────┼──────────┼──────────┼────────┼──────────┼──────────┼──────────┤\n",
       "│ 1   │ 0.309907 │ 0.234871 │ 1      │ 0.188315 │ 0.919124 │ 0.157155 │\n",
       "│ 2   │ 0.183587 │ 0.364404 │ 2      │ 0.184993 │ 0.997119 │ 0.920433 │\n",
       "│ 3   │ 0.190888 │ 0.747084 │ 3      │ 0.387466 │ 0.832611 │ 0.921358 │"
      ]
     },
     "execution_count": 74,
     "metadata": {},
     "output_type": "execute_result"
    }
   ],
   "source": [
    "deleterows!(df1, 4)"
   ]
  },
  {
   "cell_type": "code",
   "execution_count": 76,
   "metadata": {},
   "outputs": [
    {
     "data": {
      "text/html": [
       "<table class=\"data-frame\"><thead><tr><th></th><th>x1</th><th>x2</th><th>x3</th><th>x4</th><th>x5</th></tr><tr><th></th><th>Float64</th><th>Float64</th><th>Float64</th><th>Float64</th><th>Float64</th></tr></thead><tbody><p>2 rows × 5 columns</p><tr><th>1</th><td>0.783719</td><td>0.335515</td><td>0.788743</td><td>0.343894</td><td>0.530094</td></tr><tr><th>2</th><td>0.885176</td><td>0.189807</td><td>0.248694</td><td>0.662605</td><td>0.926863</td></tr></tbody></table>"
      ],
      "text/latex": [
       "\\begin{tabular}{r|ccccc}\n",
       "\t& x1 & x2 & x3 & x4 & x5\\\\\n",
       "\t\\hline\n",
       "\t& Float64 & Float64 & Float64 & Float64 & Float64\\\\\n",
       "\t\\hline\n",
       "\t1 & 0.783719 & 0.335515 & 0.788743 & 0.343894 & 0.530094 \\\\\n",
       "\t2 & 0.885176 & 0.189807 & 0.248694 & 0.662605 & 0.926863 \\\\\n",
       "\\end{tabular}\n"
      ],
      "text/plain": [
       "2×5 DataFrame\n",
       "│ Row │ x1       │ x2       │ x3       │ x4       │ x5       │\n",
       "│     │ \u001b[90mFloat64\u001b[39m  │ \u001b[90mFloat64\u001b[39m  │ \u001b[90mFloat64\u001b[39m  │ \u001b[90mFloat64\u001b[39m  │ \u001b[90mFloat64\u001b[39m  │\n",
       "├─────┼──────────┼──────────┼──────────┼──────────┼──────────┤\n",
       "│ 1   │ 0.783719 │ 0.335515 │ 0.788743 │ 0.343894 │ 0.530094 │\n",
       "│ 2   │ 0.885176 │ 0.189807 │ 0.248694 │ 0.662605 │ 0.926863 │"
      ]
     },
     "execution_count": 76,
     "metadata": {},
     "output_type": "execute_result"
    }
   ],
   "source": [
    "filter(r -> r.x1 > 0.6, df2)"
   ]
  }
 ],
 "metadata": {
  "kernelspec": {
   "display_name": "Julia 1.5.2",
   "language": "julia",
   "name": "julia-1.5"
  },
  "language_info": {
   "file_extension": ".jl",
   "mimetype": "application/julia",
   "name": "julia",
   "version": "1.5.2"
  }
 },
 "nbformat": 4,
 "nbformat_minor": 4
}
